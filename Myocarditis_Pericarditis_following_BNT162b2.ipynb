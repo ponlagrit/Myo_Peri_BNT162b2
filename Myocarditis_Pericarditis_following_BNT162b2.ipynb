{
  "cells": [
    {
      "cell_type": "markdown",
      "metadata": {
        "id": "yF9J1W73Vc7-"
      },
      "source": [
        "# **Tabulation**"
      ]
    },
    {
      "cell_type": "markdown",
      "metadata": {
        "id": "uSKvvaxgJ8BT"
      },
      "source": [
        "**Preparation**"
      ]
    },
    {
      "cell_type": "markdown",
      "source": [
        "Install package epiDisplay"
      ],
      "metadata": {
        "id": "Tl2JUAePljGI"
      }
    },
    {
      "cell_type": "code",
      "source": [
        "install.packages(\"epiDisplay\")\n",
        "install.packages(\"data.table\")\n",
        "install.packages(\"lubridate\")\n",
        "install.packages(\"stringr\")"
      ],
      "metadata": {
        "colab": {
          "base_uri": "https://localhost:8080/"
        },
        "id": "uo36b1CCligQ",
        "outputId": "e29fda1f-ddce-4ccc-9787-9a8e9b9562a5"
      },
      "execution_count": null,
      "outputs": [
        {
          "output_type": "stream",
          "name": "stderr",
          "text": [
            "Installing package into ‘/usr/local/lib/R/site-library’\n",
            "(as ‘lib’ is unspecified)\n",
            "\n",
            "Installing package into ‘/usr/local/lib/R/site-library’\n",
            "(as ‘lib’ is unspecified)\n",
            "\n",
            "Installing package into ‘/usr/local/lib/R/site-library’\n",
            "(as ‘lib’ is unspecified)\n",
            "\n",
            "Installing package into ‘/usr/local/lib/R/site-library’\n",
            "(as ‘lib’ is unspecified)\n",
            "\n"
          ]
        }
      ]
    },
    {
      "cell_type": "code",
      "source": [
        "install.packages(\"AER\")"
      ],
      "metadata": {
        "colab": {
          "base_uri": "https://localhost:8080/"
        },
        "id": "hD2pk0BUimhM",
        "outputId": "fc32252a-f8e3-4b8c-ffc3-4d2cfabde692"
      },
      "execution_count": null,
      "outputs": [
        {
          "output_type": "stream",
          "name": "stderr",
          "text": [
            "Installing package into ‘/usr/local/lib/R/site-library’\n",
            "(as ‘lib’ is unspecified)\n",
            "\n",
            "also installing the dependencies ‘SparseM’, ‘MatrixModels’, ‘carData’, ‘abind’, ‘pbkrtest’, ‘quantreg’, ‘car’, ‘lmtest’, ‘sandwich’, ‘zoo’, ‘Formula’\n",
            "\n",
            "\n"
          ]
        }
      ]
    },
    {
      "cell_type": "code",
      "source": [
        "library(tidyverse)\n",
        "library(epiDisplay)\n",
        "library(lubridate)\n",
        "library(stringr)\n",
        "library(data.table)\n",
        "library(foreign)\n",
        "library(readxl)"
      ],
      "metadata": {
        "colab": {
          "base_uri": "https://localhost:8080/"
        },
        "id": "D-ldHwKvUhWN",
        "outputId": "6ea10b2a-feba-4ac2-d1f0-0172854492f0"
      },
      "execution_count": null,
      "outputs": [
        {
          "output_type": "stream",
          "name": "stderr",
          "text": [
            "── \u001b[1mAttaching packages\u001b[22m ─────────────────────────────────────── tidyverse 1.3.1 ──\n",
            "\n",
            "\u001b[32m✔\u001b[39m \u001b[34mggplot2\u001b[39m 3.4.2     \u001b[32m✔\u001b[39m \u001b[34mpurrr  \u001b[39m 1.0.1\n",
            "\u001b[32m✔\u001b[39m \u001b[34mtibble \u001b[39m 3.2.1     \u001b[32m✔\u001b[39m \u001b[34mdplyr  \u001b[39m 1.1.2\n",
            "\u001b[32m✔\u001b[39m \u001b[34mtidyr  \u001b[39m 1.3.0     \u001b[32m✔\u001b[39m \u001b[34mstringr\u001b[39m 1.5.0\n",
            "\u001b[32m✔\u001b[39m \u001b[34mreadr  \u001b[39m 2.1.4     \u001b[32m✔\u001b[39m \u001b[34mforcats\u001b[39m 1.0.0\n",
            "\n",
            "── \u001b[1mConflicts\u001b[22m ────────────────────────────────────────── tidyverse_conflicts() ──\n",
            "\u001b[31m✖\u001b[39m \u001b[34mdplyr\u001b[39m::\u001b[32mfilter()\u001b[39m masks \u001b[34mstats\u001b[39m::filter()\n",
            "\u001b[31m✖\u001b[39m \u001b[34mdplyr\u001b[39m::\u001b[32mlag()\u001b[39m    masks \u001b[34mstats\u001b[39m::lag()\n",
            "\n",
            "Loading required package: foreign\n",
            "\n",
            "Loading required package: survival\n",
            "\n",
            "Loading required package: MASS\n",
            "\n",
            "\n",
            "Attaching package: ‘MASS’\n",
            "\n",
            "\n",
            "The following object is masked from ‘package:dplyr’:\n",
            "\n",
            "    select\n",
            "\n",
            "\n",
            "Loading required package: nnet\n",
            "\n",
            "\n",
            "Attaching package: ‘epiDisplay’\n",
            "\n",
            "\n",
            "The following object is masked from ‘package:ggplot2’:\n",
            "\n",
            "    alpha\n",
            "\n",
            "\n",
            "\n",
            "Attaching package: ‘lubridate’\n",
            "\n",
            "\n",
            "The following objects are masked from ‘package:base’:\n",
            "\n",
            "    date, intersect, setdiff, union\n",
            "\n",
            "\n",
            "\n",
            "Attaching package: ‘data.table’\n",
            "\n",
            "\n",
            "The following objects are masked from ‘package:lubridate’:\n",
            "\n",
            "    hour, isoweek, mday, minute, month, quarter, second, wday, week,\n",
            "    yday, year\n",
            "\n",
            "\n",
            "The following objects are masked from ‘package:dplyr’:\n",
            "\n",
            "    between, first, last\n",
            "\n",
            "\n",
            "The following object is masked from ‘package:purrr’:\n",
            "\n",
            "    transpose\n",
            "\n",
            "\n"
          ]
        }
      ]
    },
    {
      "cell_type": "code",
      "source": [
        "library(AER)"
      ],
      "metadata": {
        "colab": {
          "base_uri": "https://localhost:8080/"
        },
        "id": "sWW4XiyPiqGa",
        "outputId": "df1e8b9e-eac7-4e15-873d-31b28488e68f"
      },
      "execution_count": null,
      "outputs": [
        {
          "output_type": "stream",
          "name": "stderr",
          "text": [
            "Loading required package: car\n",
            "\n",
            "Loading required package: carData\n",
            "\n",
            "\n",
            "Attaching package: ‘car’\n",
            "\n",
            "\n",
            "The following object is masked from ‘package:dplyr’:\n",
            "\n",
            "    recode\n",
            "\n",
            "\n",
            "The following object is masked from ‘package:purrr’:\n",
            "\n",
            "    some\n",
            "\n",
            "\n",
            "Loading required package: lmtest\n",
            "\n",
            "Loading required package: zoo\n",
            "\n",
            "\n",
            "Attaching package: ‘zoo’\n",
            "\n",
            "\n",
            "The following objects are masked from ‘package:base’:\n",
            "\n",
            "    as.Date, as.Date.numeric\n",
            "\n",
            "\n",
            "\n",
            "Attaching package: ‘lmtest’\n",
            "\n",
            "\n",
            "The following object is masked from ‘package:epiDisplay’:\n",
            "\n",
            "    lrtest\n",
            "\n",
            "\n",
            "Loading required package: sandwich\n",
            "\n"
          ]
        }
      ]
    },
    {
      "cell_type": "code",
      "source": [
        "temp <- tempfile()\n",
        "download.file(\"https://drive.google.com/uc?id=1eF_hltjBDk2pegrMQyF_RDjiMij9gxOn&authuser=0&export=download\", temp)\n",
        "dem<-read_excel(temp)"
      ],
      "metadata": {
        "id": "mTBm-5sqUkc0"
      },
      "execution_count": null,
      "outputs": []
    },
    {
      "cell_type": "code",
      "source": [
        "dem<-as.data.table(dem)"
      ],
      "metadata": {
        "id": "CeEC9EUHg3Ke"
      },
      "execution_count": null,
      "outputs": []
    },
    {
      "cell_type": "markdown",
      "source": [
        "**Sex**"
      ],
      "metadata": {
        "id": "jnVI3IEdotr7"
      }
    },
    {
      "cell_type": "code",
      "source": [
        "pop<-dem[status==\"unvaccinated\" & m == \"M1\"]\n",
        "pop$age<-factor(pop$age,levels = c(\"5-11\",\"12-17\",\"18-40\"))\n",
        "pop_total <-pop %>% group_by(status) %>% summarise(total = sum(freq))\n",
        "pop_sex <-pop %>% group_by(status,sex) %>% summarise(n = sum(freq))\n",
        "merge(pop_sex,pop_total,by=\"status\",all.x=TRUE) %>% mutate(percent = round(n/total*100,1))"
      ],
      "metadata": {
        "colab": {
          "base_uri": "https://localhost:8080/",
          "height": 196
        },
        "id": "qNEVx0Ibl8i-",
        "outputId": "6a75ecb1-fe86-4038-8ca1-493cb667d9c4"
      },
      "execution_count": null,
      "outputs": [
        {
          "output_type": "stream",
          "name": "stderr",
          "text": [
            "\u001b[1m\u001b[22m`summarise()` has grouped output by 'status'. You can override using the\n",
            "`.groups` argument.\n"
          ]
        },
        {
          "output_type": "display_data",
          "data": {
            "text/html": [
              "<table class=\"dataframe\">\n",
              "<caption>A data.frame: 2 × 5</caption>\n",
              "<thead>\n",
              "\t<tr><th scope=col>status</th><th scope=col>sex</th><th scope=col>n</th><th scope=col>total</th><th scope=col>percent</th></tr>\n",
              "\t<tr><th scope=col>&lt;chr&gt;</th><th scope=col>&lt;chr&gt;</th><th scope=col>&lt;dbl&gt;</th><th scope=col>&lt;dbl&gt;</th><th scope=col>&lt;dbl&gt;</th></tr>\n",
              "</thead>\n",
              "<tbody>\n",
              "\t<tr><td>unvaccinated</td><td>Female</td><td>9216803</td><td>18799017</td><td>49</td></tr>\n",
              "\t<tr><td>unvaccinated</td><td>Male  </td><td>9582214</td><td>18799017</td><td>51</td></tr>\n",
              "</tbody>\n",
              "</table>\n"
            ],
            "text/markdown": "\nA data.frame: 2 × 5\n\n| status &lt;chr&gt; | sex &lt;chr&gt; | n &lt;dbl&gt; | total &lt;dbl&gt; | percent &lt;dbl&gt; |\n|---|---|---|---|---|\n| unvaccinated | Female | 9216803 | 18799017 | 49 |\n| unvaccinated | Male   | 9582214 | 18799017 | 51 |\n\n",
            "text/latex": "A data.frame: 2 × 5\n\\begin{tabular}{lllll}\n status & sex & n & total & percent\\\\\n <chr> & <chr> & <dbl> & <dbl> & <dbl>\\\\\n\\hline\n\t unvaccinated & Female & 9216803 & 18799017 & 49\\\\\n\t unvaccinated & Male   & 9582214 & 18799017 & 51\\\\\n\\end{tabular}\n",
            "text/plain": [
              "  status       sex    n       total    percent\n",
              "1 unvaccinated Female 9216803 18799017 49     \n",
              "2 unvaccinated Male   9582214 18799017 51     "
            ]
          },
          "metadata": {}
        }
      ]
    },
    {
      "cell_type": "code",
      "source": [
        "dem<-dem[status != \"unvaccinated\"]"
      ],
      "metadata": {
        "id": "_rRRu1W8ibkM"
      },
      "execution_count": null,
      "outputs": []
    },
    {
      "cell_type": "code",
      "source": [
        "dem$age<-factor(dem$age,levels = c(\"5-11\",\"12-17\",\"18-40\"))"
      ],
      "metadata": {
        "id": "R5vsKCQG5TOs"
      },
      "execution_count": null,
      "outputs": []
    },
    {
      "cell_type": "code",
      "source": [
        "total<- dem %>% group_by(status) %>% summarise(total = sum(freq))"
      ],
      "metadata": {
        "id": "UISP1BHxj9wz"
      },
      "execution_count": null,
      "outputs": []
    },
    {
      "cell_type": "code",
      "source": [
        "dem_sex <- dem %>% group_by(status,sex) %>% summarise(n = sum(freq))\n",
        "merge(dem_sex,total,by=\"status\",all.x = TRUE) %>% mutate(percent = round(n/total*100,1))"
      ],
      "metadata": {
        "colab": {
          "base_uri": "https://localhost:8080/",
          "height": 572
        },
        "id": "3Xw3unNSjk_T",
        "outputId": "52d86801-5413-4d64-eeaa-ed72b0af9c1a"
      },
      "execution_count": null,
      "outputs": [
        {
          "output_type": "stream",
          "name": "stderr",
          "text": [
            "\u001b[1m\u001b[22m`summarise()` has grouped output by 'status'. You can override using the\n",
            "`.groups` argument.\n"
          ]
        },
        {
          "output_type": "display_data",
          "data": {
            "text/html": [
              "<table class=\"dataframe\">\n",
              "<caption>A data.frame: 14 × 5</caption>\n",
              "<thead>\n",
              "\t<tr><th scope=col>status</th><th scope=col>sex</th><th scope=col>n</th><th scope=col>total</th><th scope=col>percent</th></tr>\n",
              "\t<tr><th scope=col>&lt;chr&gt;</th><th scope=col>&lt;chr&gt;</th><th scope=col>&lt;dbl&gt;</th><th scope=col>&lt;dbl&gt;</th><th scope=col>&lt;dbl&gt;</th></tr>\n",
              "</thead>\n",
              "<tbody>\n",
              "\t<tr><td>infected</td><td>Female</td><td> 226454</td><td> 446077</td><td>50.8</td></tr>\n",
              "\t<tr><td>infected</td><td>Male  </td><td> 219623</td><td> 446077</td><td>49.2</td></tr>\n",
              "\t<tr><td>PZ      </td><td>Female</td><td>3817627</td><td>7594965</td><td>50.3</td></tr>\n",
              "\t<tr><td>PZ      </td><td>Male  </td><td>3777338</td><td>7594965</td><td>49.7</td></tr>\n",
              "\t<tr><td>PZ-PZ   </td><td>Female</td><td>3019569</td><td>5916836</td><td>51.0</td></tr>\n",
              "\t<tr><td>PZ-PZ   </td><td>Male  </td><td>2897267</td><td>5916836</td><td>49.0</td></tr>\n",
              "\t<tr><td>PZ-PZ-PZ</td><td>Female</td><td> 666404</td><td>1113958</td><td>59.8</td></tr>\n",
              "\t<tr><td>PZ-PZ-PZ</td><td>Male  </td><td> 447554</td><td>1113958</td><td>40.2</td></tr>\n",
              "\t<tr><td>SP      </td><td>Female</td><td>1517809</td><td>2914643</td><td>52.1</td></tr>\n",
              "\t<tr><td>SP      </td><td>Male  </td><td>1396834</td><td>2914643</td><td>47.9</td></tr>\n",
              "\t<tr><td>SP-SP   </td><td>Female</td><td>1451540</td><td>2782646</td><td>52.2</td></tr>\n",
              "\t<tr><td>SP-SP   </td><td>Male  </td><td>1331106</td><td>2782646</td><td>47.8</td></tr>\n",
              "\t<tr><td>SP-SP-PZ</td><td>Female</td><td> 689122</td><td>1249171</td><td>55.2</td></tr>\n",
              "\t<tr><td>SP-SP-PZ</td><td>Male  </td><td> 560049</td><td>1249171</td><td>44.8</td></tr>\n",
              "</tbody>\n",
              "</table>\n"
            ],
            "text/markdown": "\nA data.frame: 14 × 5\n\n| status &lt;chr&gt; | sex &lt;chr&gt; | n &lt;dbl&gt; | total &lt;dbl&gt; | percent &lt;dbl&gt; |\n|---|---|---|---|---|\n| infected | Female |  226454 |  446077 | 50.8 |\n| infected | Male   |  219623 |  446077 | 49.2 |\n| PZ       | Female | 3817627 | 7594965 | 50.3 |\n| PZ       | Male   | 3777338 | 7594965 | 49.7 |\n| PZ-PZ    | Female | 3019569 | 5916836 | 51.0 |\n| PZ-PZ    | Male   | 2897267 | 5916836 | 49.0 |\n| PZ-PZ-PZ | Female |  666404 | 1113958 | 59.8 |\n| PZ-PZ-PZ | Male   |  447554 | 1113958 | 40.2 |\n| SP       | Female | 1517809 | 2914643 | 52.1 |\n| SP       | Male   | 1396834 | 2914643 | 47.9 |\n| SP-SP    | Female | 1451540 | 2782646 | 52.2 |\n| SP-SP    | Male   | 1331106 | 2782646 | 47.8 |\n| SP-SP-PZ | Female |  689122 | 1249171 | 55.2 |\n| SP-SP-PZ | Male   |  560049 | 1249171 | 44.8 |\n\n",
            "text/latex": "A data.frame: 14 × 5\n\\begin{tabular}{lllll}\n status & sex & n & total & percent\\\\\n <chr> & <chr> & <dbl> & <dbl> & <dbl>\\\\\n\\hline\n\t infected & Female &  226454 &  446077 & 50.8\\\\\n\t infected & Male   &  219623 &  446077 & 49.2\\\\\n\t PZ       & Female & 3817627 & 7594965 & 50.3\\\\\n\t PZ       & Male   & 3777338 & 7594965 & 49.7\\\\\n\t PZ-PZ    & Female & 3019569 & 5916836 & 51.0\\\\\n\t PZ-PZ    & Male   & 2897267 & 5916836 & 49.0\\\\\n\t PZ-PZ-PZ & Female &  666404 & 1113958 & 59.8\\\\\n\t PZ-PZ-PZ & Male   &  447554 & 1113958 & 40.2\\\\\n\t SP       & Female & 1517809 & 2914643 & 52.1\\\\\n\t SP       & Male   & 1396834 & 2914643 & 47.9\\\\\n\t SP-SP    & Female & 1451540 & 2782646 & 52.2\\\\\n\t SP-SP    & Male   & 1331106 & 2782646 & 47.8\\\\\n\t SP-SP-PZ & Female &  689122 & 1249171 & 55.2\\\\\n\t SP-SP-PZ & Male   &  560049 & 1249171 & 44.8\\\\\n\\end{tabular}\n",
            "text/plain": [
              "   status   sex    n       total   percent\n",
              "1  infected Female  226454  446077 50.8   \n",
              "2  infected Male    219623  446077 49.2   \n",
              "3  PZ       Female 3817627 7594965 50.3   \n",
              "4  PZ       Male   3777338 7594965 49.7   \n",
              "5  PZ-PZ    Female 3019569 5916836 51.0   \n",
              "6  PZ-PZ    Male   2897267 5916836 49.0   \n",
              "7  PZ-PZ-PZ Female  666404 1113958 59.8   \n",
              "8  PZ-PZ-PZ Male    447554 1113958 40.2   \n",
              "9  SP       Female 1517809 2914643 52.1   \n",
              "10 SP       Male   1396834 2914643 47.9   \n",
              "11 SP-SP    Female 1451540 2782646 52.2   \n",
              "12 SP-SP    Male   1331106 2782646 47.8   \n",
              "13 SP-SP-PZ Female  689122 1249171 55.2   \n",
              "14 SP-SP-PZ Male    560049 1249171 44.8   "
            ]
          },
          "metadata": {}
        }
      ]
    },
    {
      "cell_type": "markdown",
      "source": [
        "**Age**"
      ],
      "metadata": {
        "id": "aGIC-YRRoxDI"
      }
    },
    {
      "cell_type": "code",
      "source": [
        "pop_age <-pop %>% group_by(status,age) %>% summarise(n = sum(freq))\n",
        "merge(pop_age,pop_total,by=\"status\",all.x=TRUE) %>% mutate(percent = round(n/total*100,1)) %>% arrange(age)"
      ],
      "metadata": {
        "colab": {
          "base_uri": "https://localhost:8080/",
          "height": 227
        },
        "id": "3J84NDNkkH5y",
        "outputId": "74cf209d-bd11-4cfe-ae6b-6a822304c2e1"
      },
      "execution_count": null,
      "outputs": [
        {
          "output_type": "stream",
          "name": "stderr",
          "text": [
            "\u001b[1m\u001b[22m`summarise()` has grouped output by 'status'. You can override using the\n",
            "`.groups` argument.\n"
          ]
        },
        {
          "output_type": "display_data",
          "data": {
            "text/html": [
              "<table class=\"dataframe\">\n",
              "<caption>A data.frame: 3 × 5</caption>\n",
              "<thead>\n",
              "\t<tr><th scope=col>status</th><th scope=col>age</th><th scope=col>n</th><th scope=col>total</th><th scope=col>percent</th></tr>\n",
              "\t<tr><th scope=col>&lt;chr&gt;</th><th scope=col>&lt;fct&gt;</th><th scope=col>&lt;dbl&gt;</th><th scope=col>&lt;dbl&gt;</th><th scope=col>&lt;dbl&gt;</th></tr>\n",
              "</thead>\n",
              "<tbody>\n",
              "\t<tr><td>unvaccinated</td><td>5-11 </td><td>5060547</td><td>18799017</td><td>26.9</td></tr>\n",
              "\t<tr><td>unvaccinated</td><td>12-17</td><td>4140034</td><td>18799017</td><td>22.0</td></tr>\n",
              "\t<tr><td>unvaccinated</td><td>18-40</td><td>9598436</td><td>18799017</td><td>51.1</td></tr>\n",
              "</tbody>\n",
              "</table>\n"
            ],
            "text/markdown": "\nA data.frame: 3 × 5\n\n| status &lt;chr&gt; | age &lt;fct&gt; | n &lt;dbl&gt; | total &lt;dbl&gt; | percent &lt;dbl&gt; |\n|---|---|---|---|---|\n| unvaccinated | 5-11  | 5060547 | 18799017 | 26.9 |\n| unvaccinated | 12-17 | 4140034 | 18799017 | 22.0 |\n| unvaccinated | 18-40 | 9598436 | 18799017 | 51.1 |\n\n",
            "text/latex": "A data.frame: 3 × 5\n\\begin{tabular}{lllll}\n status & age & n & total & percent\\\\\n <chr> & <fct> & <dbl> & <dbl> & <dbl>\\\\\n\\hline\n\t unvaccinated & 5-11  & 5060547 & 18799017 & 26.9\\\\\n\t unvaccinated & 12-17 & 4140034 & 18799017 & 22.0\\\\\n\t unvaccinated & 18-40 & 9598436 & 18799017 & 51.1\\\\\n\\end{tabular}\n",
            "text/plain": [
              "  status       age   n       total    percent\n",
              "1 unvaccinated 5-11  5060547 18799017 26.9   \n",
              "2 unvaccinated 12-17 4140034 18799017 22.0   \n",
              "3 unvaccinated 18-40 9598436 18799017 51.1   "
            ]
          },
          "metadata": {}
        }
      ]
    },
    {
      "cell_type": "code",
      "source": [
        "dem_age <- dem %>% group_by(status,age) %>% summarise(n = sum(freq))\n",
        "merge(dem_age,total,by=\"status\",all.x = TRUE) %>% mutate(percent = round(n/total*100,1)) %>% arrange(status,age)"
      ],
      "metadata": {
        "colab": {
          "base_uri": "https://localhost:8080/",
          "height": 791
        },
        "id": "xLecWKlTqOtT",
        "outputId": "7e347fba-5f69-4670-d19f-80124230f43b"
      },
      "execution_count": null,
      "outputs": [
        {
          "output_type": "stream",
          "name": "stderr",
          "text": [
            "\u001b[1m\u001b[22m`summarise()` has grouped output by 'status'. You can override using the\n",
            "`.groups` argument.\n"
          ]
        },
        {
          "output_type": "display_data",
          "data": {
            "text/html": [
              "<table class=\"dataframe\">\n",
              "<caption>A data.frame: 21 × 5</caption>\n",
              "<thead>\n",
              "\t<tr><th scope=col>status</th><th scope=col>age</th><th scope=col>n</th><th scope=col>total</th><th scope=col>percent</th></tr>\n",
              "\t<tr><th scope=col>&lt;chr&gt;</th><th scope=col>&lt;fct&gt;</th><th scope=col>&lt;dbl&gt;</th><th scope=col>&lt;dbl&gt;</th><th scope=col>&lt;dbl&gt;</th></tr>\n",
              "</thead>\n",
              "<tbody>\n",
              "\t<tr><td>PZ      </td><td>5-11 </td><td>2841445</td><td>7594965</td><td>37.4</td></tr>\n",
              "\t<tr><td>PZ      </td><td>12-17</td><td>3821510</td><td>7594965</td><td>50.3</td></tr>\n",
              "\t<tr><td>PZ      </td><td>18-40</td><td> 932010</td><td>7594965</td><td>12.3</td></tr>\n",
              "\t<tr><td>PZ-PZ   </td><td>5-11 </td><td>2092560</td><td>5916836</td><td>35.4</td></tr>\n",
              "\t<tr><td>PZ-PZ   </td><td>12-17</td><td>3091247</td><td>5916836</td><td>52.2</td></tr>\n",
              "\t<tr><td>PZ-PZ   </td><td>18-40</td><td> 733029</td><td>5916836</td><td>12.4</td></tr>\n",
              "\t<tr><td>PZ-PZ-PZ</td><td>5-11 </td><td> 191678</td><td>1113958</td><td>17.2</td></tr>\n",
              "\t<tr><td>PZ-PZ-PZ</td><td>12-17</td><td> 839206</td><td>1113958</td><td>75.3</td></tr>\n",
              "\t<tr><td>PZ-PZ-PZ</td><td>18-40</td><td>  83074</td><td>1113958</td><td> 7.5</td></tr>\n",
              "\t<tr><td>SP      </td><td>5-11 </td><td>  30631</td><td>2914643</td><td> 1.1</td></tr>\n",
              "\t<tr><td>SP      </td><td>12-17</td><td>  82237</td><td>2914643</td><td> 2.8</td></tr>\n",
              "\t<tr><td>SP      </td><td>18-40</td><td>2801775</td><td>2914643</td><td>96.1</td></tr>\n",
              "\t<tr><td>SP-SP   </td><td>5-11 </td><td>  26105</td><td>2782646</td><td> 0.9</td></tr>\n",
              "\t<tr><td>SP-SP   </td><td>12-17</td><td>  80326</td><td>2782646</td><td> 2.9</td></tr>\n",
              "\t<tr><td>SP-SP   </td><td>18-40</td><td>2676215</td><td>2782646</td><td>96.2</td></tr>\n",
              "\t<tr><td>SP-SP-PZ</td><td>5-11 </td><td>   7795</td><td>1249171</td><td> 0.6</td></tr>\n",
              "\t<tr><td>SP-SP-PZ</td><td>12-17</td><td>  26960</td><td>1249171</td><td> 2.2</td></tr>\n",
              "\t<tr><td>SP-SP-PZ</td><td>18-40</td><td>1214416</td><td>1249171</td><td>97.2</td></tr>\n",
              "\t<tr><td>infected</td><td>5-11 </td><td>  39133</td><td> 446077</td><td> 8.8</td></tr>\n",
              "\t<tr><td>infected</td><td>12-17</td><td>  60086</td><td> 446077</td><td>13.5</td></tr>\n",
              "\t<tr><td>infected</td><td>18-40</td><td> 346858</td><td> 446077</td><td>77.8</td></tr>\n",
              "</tbody>\n",
              "</table>\n"
            ],
            "text/markdown": "\nA data.frame: 21 × 5\n\n| status &lt;chr&gt; | age &lt;fct&gt; | n &lt;dbl&gt; | total &lt;dbl&gt; | percent &lt;dbl&gt; |\n|---|---|---|---|---|\n| PZ       | 5-11  | 2841445 | 7594965 | 37.4 |\n| PZ       | 12-17 | 3821510 | 7594965 | 50.3 |\n| PZ       | 18-40 |  932010 | 7594965 | 12.3 |\n| PZ-PZ    | 5-11  | 2092560 | 5916836 | 35.4 |\n| PZ-PZ    | 12-17 | 3091247 | 5916836 | 52.2 |\n| PZ-PZ    | 18-40 |  733029 | 5916836 | 12.4 |\n| PZ-PZ-PZ | 5-11  |  191678 | 1113958 | 17.2 |\n| PZ-PZ-PZ | 12-17 |  839206 | 1113958 | 75.3 |\n| PZ-PZ-PZ | 18-40 |   83074 | 1113958 |  7.5 |\n| SP       | 5-11  |   30631 | 2914643 |  1.1 |\n| SP       | 12-17 |   82237 | 2914643 |  2.8 |\n| SP       | 18-40 | 2801775 | 2914643 | 96.1 |\n| SP-SP    | 5-11  |   26105 | 2782646 |  0.9 |\n| SP-SP    | 12-17 |   80326 | 2782646 |  2.9 |\n| SP-SP    | 18-40 | 2676215 | 2782646 | 96.2 |\n| SP-SP-PZ | 5-11  |    7795 | 1249171 |  0.6 |\n| SP-SP-PZ | 12-17 |   26960 | 1249171 |  2.2 |\n| SP-SP-PZ | 18-40 | 1214416 | 1249171 | 97.2 |\n| infected | 5-11  |   39133 |  446077 |  8.8 |\n| infected | 12-17 |   60086 |  446077 | 13.5 |\n| infected | 18-40 |  346858 |  446077 | 77.8 |\n\n",
            "text/latex": "A data.frame: 21 × 5\n\\begin{tabular}{lllll}\n status & age & n & total & percent\\\\\n <chr> & <fct> & <dbl> & <dbl> & <dbl>\\\\\n\\hline\n\t PZ       & 5-11  & 2841445 & 7594965 & 37.4\\\\\n\t PZ       & 12-17 & 3821510 & 7594965 & 50.3\\\\\n\t PZ       & 18-40 &  932010 & 7594965 & 12.3\\\\\n\t PZ-PZ    & 5-11  & 2092560 & 5916836 & 35.4\\\\\n\t PZ-PZ    & 12-17 & 3091247 & 5916836 & 52.2\\\\\n\t PZ-PZ    & 18-40 &  733029 & 5916836 & 12.4\\\\\n\t PZ-PZ-PZ & 5-11  &  191678 & 1113958 & 17.2\\\\\n\t PZ-PZ-PZ & 12-17 &  839206 & 1113958 & 75.3\\\\\n\t PZ-PZ-PZ & 18-40 &   83074 & 1113958 &  7.5\\\\\n\t SP       & 5-11  &   30631 & 2914643 &  1.1\\\\\n\t SP       & 12-17 &   82237 & 2914643 &  2.8\\\\\n\t SP       & 18-40 & 2801775 & 2914643 & 96.1\\\\\n\t SP-SP    & 5-11  &   26105 & 2782646 &  0.9\\\\\n\t SP-SP    & 12-17 &   80326 & 2782646 &  2.9\\\\\n\t SP-SP    & 18-40 & 2676215 & 2782646 & 96.2\\\\\n\t SP-SP-PZ & 5-11  &    7795 & 1249171 &  0.6\\\\\n\t SP-SP-PZ & 12-17 &   26960 & 1249171 &  2.2\\\\\n\t SP-SP-PZ & 18-40 & 1214416 & 1249171 & 97.2\\\\\n\t infected & 5-11  &   39133 &  446077 &  8.8\\\\\n\t infected & 12-17 &   60086 &  446077 & 13.5\\\\\n\t infected & 18-40 &  346858 &  446077 & 77.8\\\\\n\\end{tabular}\n",
            "text/plain": [
              "   status   age   n       total   percent\n",
              "1  PZ       5-11  2841445 7594965 37.4   \n",
              "2  PZ       12-17 3821510 7594965 50.3   \n",
              "3  PZ       18-40  932010 7594965 12.3   \n",
              "4  PZ-PZ    5-11  2092560 5916836 35.4   \n",
              "5  PZ-PZ    12-17 3091247 5916836 52.2   \n",
              "6  PZ-PZ    18-40  733029 5916836 12.4   \n",
              "7  PZ-PZ-PZ 5-11   191678 1113958 17.2   \n",
              "8  PZ-PZ-PZ 12-17  839206 1113958 75.3   \n",
              "9  PZ-PZ-PZ 18-40   83074 1113958  7.5   \n",
              "10 SP       5-11    30631 2914643  1.1   \n",
              "11 SP       12-17   82237 2914643  2.8   \n",
              "12 SP       18-40 2801775 2914643 96.1   \n",
              "13 SP-SP    5-11    26105 2782646  0.9   \n",
              "14 SP-SP    12-17   80326 2782646  2.9   \n",
              "15 SP-SP    18-40 2676215 2782646 96.2   \n",
              "16 SP-SP-PZ 5-11     7795 1249171  0.6   \n",
              "17 SP-SP-PZ 12-17   26960 1249171  2.2   \n",
              "18 SP-SP-PZ 18-40 1214416 1249171 97.2   \n",
              "19 infected 5-11    39133  446077  8.8   \n",
              "20 infected 12-17   60086  446077 13.5   \n",
              "21 infected 18-40  346858  446077 77.8   "
            ]
          },
          "metadata": {}
        }
      ]
    },
    {
      "cell_type": "markdown",
      "source": [
        "# **Table 2**"
      ],
      "metadata": {
        "id": "XN_nP5v5eek0"
      }
    },
    {
      "cell_type": "markdown",
      "source": [
        "**Unvaccinated**"
      ],
      "metadata": {
        "id": "hNRzyGTWemsL"
      }
    },
    {
      "cell_type": "markdown",
      "source": [
        "Import data"
      ],
      "metadata": {
        "id": "BqU84UGfepDh"
      }
    },
    {
      "cell_type": "code",
      "source": [
        "temp <- tempfile()\n",
        "download.file(\"https://drive.google.com/uc?id=10LCx2RA3dbRufRbRmJp-Gv4IaZUdtnvR&authuser=0&export=download\", temp)\n",
        "unvac<-readRDS(temp)"
      ],
      "metadata": {
        "id": "7RHXRy6p7_r8"
      },
      "execution_count": null,
      "outputs": []
    },
    {
      "cell_type": "code",
      "source": [
        "glimpse(unvac)"
      ],
      "metadata": {
        "colab": {
          "base_uri": "https://localhost:8080/"
        },
        "id": "HTsDUA_hera1",
        "outputId": "a28838d2-c67b-446a-a2da-398e24920c19"
      },
      "execution_count": null,
      "outputs": [
        {
          "output_type": "stream",
          "name": "stdout",
          "text": [
            "Rows: 111\n",
            "Columns: 9\n",
            "$ genid   \u001b[3m\u001b[90m<chr>\u001b[39m\u001b[23m \"r1\", \"r2\", \"r3\", \"r4\", \"r5\", \"r6\", \"r7\", \"r8\", \"r9\", \"r10\", \"…\n",
            "$ myo     \u001b[3m\u001b[90m<lgl>\u001b[39m\u001b[23m FALSE, FALSE, TRUE, TRUE, FALSE, TRUE, FALSE, TRUE, TRUE, TRUE…\n",
            "$ peri    \u001b[3m\u001b[90m<lgl>\u001b[39m\u001b[23m TRUE, TRUE, FALSE, FALSE, TRUE, FALSE, TRUE, FALSE, FALSE, FAL…\n",
            "$ sex     \u001b[3m\u001b[90m<chr>\u001b[39m\u001b[23m \"Male\", \"Male\", \"Female\", \"Female\", \"Male\", \"Female\", \"Male\", …\n",
            "$ age_y   \u001b[3m\u001b[90m<int>\u001b[39m\u001b[23m 34, 39, 14, 25, 34, 8, 32, 6, 13, 12, 12, 16, 29, 32, 11, 6, 3…\n",
            "$ age     \u001b[3m\u001b[90m<fct>\u001b[39m\u001b[23m 18-40, 18-40, 12-17, 18-40, 18-40, 5-11, 18-40, 5-11, 12-17, 1…\n",
            "$ los     \u001b[3m\u001b[90m<dbl>\u001b[39m\u001b[23m 1, 1, 76, 4, 2, 2, 6, 3, 5, 20, 17, 3, 9, 61, 10, 2, 9, 9, 19,…\n",
            "$ deathdc \u001b[3m\u001b[90m<chr>\u001b[39m\u001b[23m \"Dead\", \"Alive\", \"Alive\", \"Alive\", \"Alive\", \"Alive\", \"Alive\", …\n",
            "$ group   \u001b[3m\u001b[90m<chr>\u001b[39m\u001b[23m \"reference\", \"reference\", \"reference\", \"reference\", \"reference…\n"
          ]
        }
      ]
    },
    {
      "cell_type": "markdown",
      "source": [
        "Myocarditis"
      ],
      "metadata": {
        "id": "SaVR6ykpfB3J"
      }
    },
    {
      "cell_type": "code",
      "source": [
        "tableStack(sex:deathdc,by=group,data=unvac[myo==TRUE])"
      ],
      "metadata": {
        "colab": {
          "base_uri": "https://localhost:8080/",
          "height": 399
        },
        "id": "gTMP8VrufDxx",
        "outputId": "4b15e6ce-947f-4b25-96a1-e6e92a56e24c"
      },
      "execution_count": null,
      "outputs": [
        {
          "output_type": "display_data",
          "data": {
            "text/plain": [
              "              infected        reference   Test stat.           P value\n",
              "Total         18              58                                      \n",
              "                                                                      \n",
              "sex                                       Chisq. (1 df) = 0.1  0.752  \n",
              "   Female     7 (38.9)        25 (43.1)                               \n",
              "   Male       11 (61.1)       33 (56.9)                               \n",
              "                                                                      \n",
              "age_y                                     Ranksum test         0.287  \n",
              "  median(IQR) 18.5 (9.2,33.5) 13 (9.2,17)                             \n",
              "                                                                      \n",
              "age                                       Chisq. (2 df) = 6.17 0.046  \n",
              "   5-11       7 (38.9)        22 (37.9)                               \n",
              "   12-17      2 (11.1)        22 (37.9)                               \n",
              "   18-40      9 (50)          14 (24.1)                               \n",
              "                                                                      \n",
              "los                                       Ranksum test         0.573  \n",
              "  median(IQR) 9.5 (5.2,15.5)  8 (3,15)                                \n",
              "                                                                      \n",
              "deathdc                                   Fisher's exact test  1      \n",
              "   Alive      16 (88.9)       52 (89.7)                               \n",
              "   Dead       2 (11.1)        6 (10.3)                                \n",
              "                                                                      "
            ]
          },
          "metadata": {}
        }
      ]
    },
    {
      "cell_type": "code",
      "source": [
        "paste0(round(by(unvac[myo==TRUE]$age_y,unvac[myo==TRUE]$group,mean),1),\"±\",round(by(unvac[myo==TRUE]$age_y,unvac[myo==TRUE]$group,sd),1))"
      ],
      "metadata": {
        "colab": {
          "base_uri": "https://localhost:8080/",
          "height": 34
        },
        "id": "Zmo9gnaxgHvT",
        "outputId": "41c9e1ce-a62e-4a4b-c0e0-1a2c4d1cb884"
      },
      "execution_count": null,
      "outputs": [
        {
          "output_type": "display_data",
          "data": {
            "text/html": [
              "<style>\n",
              ".list-inline {list-style: none; margin:0; padding: 0}\n",
              ".list-inline>li {display: inline-block}\n",
              ".list-inline>li:not(:last-child)::after {content: \"\\00b7\"; padding: 0 .5ex}\n",
              "</style>\n",
              "<ol class=list-inline><li>'21.2±13.2'</li><li>'15.8±9.4'</li></ol>\n"
            ],
            "text/markdown": "1. '21.2±13.2'\n2. '15.8±9.4'\n\n\n",
            "text/latex": "\\begin{enumerate*}\n\\item '21.2±13.2'\n\\item '15.8±9.4'\n\\end{enumerate*}\n",
            "text/plain": [
              "[1] \"21.2±13.2\" \"15.8±9.4\" "
            ]
          },
          "metadata": {}
        }
      ]
    },
    {
      "cell_type": "markdown",
      "source": [
        "Pericarditis"
      ],
      "metadata": {
        "id": "Hdxxk4J9iTFs"
      }
    },
    {
      "cell_type": "code",
      "source": [
        "tableStack(sex:deathdc,by=group,data=unvac[peri==TRUE])"
      ],
      "metadata": {
        "colab": {
          "base_uri": "https://localhost:8080/",
          "height": 399
        },
        "id": "I-_F8fsZiUmq",
        "outputId": "a19794c7-7674-4e3c-9527-a7d584975ed6"
      },
      "execution_count": null,
      "outputs": [
        {
          "output_type": "display_data",
          "data": {
            "text/plain": [
              "              infected   reference  Test stat.                P value\n",
              "Total         2          33                                          \n",
              "                                                                     \n",
              "sex                                 Fisher's exact test       1      \n",
              "   Female     0 (0)      8 (24.2)                                    \n",
              "   Male       2 (100)    25 (75.8)                                   \n",
              "                                                                     \n",
              "age_y                               Sample too small: group 1        \n",
              "  mean(SD)    36 (4.2)   25.8 (9.6)                                  \n",
              "                                                                     \n",
              "age                                 Fisher's exact test       1      \n",
              "   5-11       0 (0)      3 (9.1)                                     \n",
              "   12-17      0 (0)      6 (18.2)                                    \n",
              "   18-40      2 (100)    24 (72.7)                                   \n",
              "                                                                     \n",
              "los                                 Sample too small: group 1        \n",
              "  median(IQR) 32 (18,46) 5 (2,9)                                     \n",
              "                                                                     \n",
              "deathdc                             Fisher's exact test       0.113  \n",
              "   Alive      1 (50)     32 (97)                                     \n",
              "   Dead       1 (50)     1 (3)                                       \n",
              "                                                                     "
            ]
          },
          "metadata": {}
        }
      ]
    },
    {
      "cell_type": "markdown",
      "source": [
        "# **Vaccinated group**"
      ],
      "metadata": {
        "id": "dISJ4wl8n4m1"
      }
    },
    {
      "cell_type": "code",
      "source": [
        "temp <- tempfile()\n",
        "download.file(\"https://drive.google.com/uc?id=1AyL1SfWySwyBmULyphMzN7G-bKiV-WYC&authuser=0&export=download\", temp)\n",
        "vac<-readRDS(temp)"
      ],
      "metadata": {
        "id": "e4CDKEq9n7Pj"
      },
      "execution_count": null,
      "outputs": []
    },
    {
      "cell_type": "markdown",
      "source": [
        "Myocarditis"
      ],
      "metadata": {
        "id": "KOpgDdopswEu"
      }
    },
    {
      "cell_type": "code",
      "source": [
        "tableStack(sex:deathdc,by=group,data=vac[myo==TRUE])"
      ],
      "metadata": {
        "colab": {
          "base_uri": "https://localhost:8080/",
          "height": 1000
        },
        "id": "-Cy0N5Q9oEIG",
        "outputId": "2de22bad-f7a7-46ac-f0a4-8ac27772d9c3"
      },
      "execution_count": null,
      "outputs": [
        {
          "output_type": "display_data",
          "data": {
            "text/plain": [
              "              pz         pz-pz      pz-pz-pz     sp               sp-sp-pz  \n",
              "Total         61         144        10           2                3         \n",
              "                                                                            \n",
              "sex                                                                         \n",
              "   Female     19 (31.1)  43 (29.9)  3 (30)       1 (50)           2 (66.7)  \n",
              "   Male       42 (68.9)  101 (70.1) 7 (70)       1 (50)           1 (33.3)  \n",
              "                                                                            \n",
              "age_y                                                                       \n",
              "  median(IQR) 14 (12,15) 14 (12,15) 13.5 (13,16) 22 (21.5,22.5)   19 (19,26)\n",
              "                                                                            \n",
              "age                                                                         \n",
              "   5-11       6 (9.8)    5 (3.5)    0 (0)        0 (0)            0 (0)     \n",
              "   12-17      53 (86.9)  134 (93.1) 9 (90)       0 (0)            0 (0)     \n",
              "   18-40      2 (3.3)    5 (3.5)    1 (10)       2 (100)          3 (100)   \n",
              "                                                                            \n",
              "inter                                                                       \n",
              "  median(IQR) 3 (2,10)   3 (1,3)    2.5 (2,3.8)  19.5 (14.2,24.8) 5 (4,12.5)\n",
              "                                                                            \n",
              "inter_g                                                                     \n",
              "   0-1        8 (13.1)   40 (27.8)  2 (20)       0 (0)            0 (0)     \n",
              "   2-7        35 (57.4)  89 (61.8)  6 (60)       0 (0)            2 (66.7)  \n",
              "   8-30       18 (29.5)  15 (10.4)  2 (20)       2 (100)          1 (33.3)  \n",
              "                                                                            \n",
              "los                                                                         \n",
              "  median(IQR) 3 (2,5)    3 (2,5)    3.5 (3,6.5)  17.5 (17.2,17.8) 7 (6.5,8) \n",
              "                                                                            \n",
              "deathdc                                                                     \n",
              "   Alive      61 (100)   143 (99.3) 10 (100)     2 (100)          3 (100)   \n",
              "   Dead       0 (0)      1 (0.7)    0 (0)        0 (0)            0 (0)     \n",
              "                                                                            \n",
              "              Test stat.                P value\n",
              "Total                                          \n",
              "                                               \n",
              "sex           Fisher's exact test       0.62   \n",
              "   Female                                      \n",
              "   Male                                        \n",
              "                                               \n",
              "age_y         Sample too small: group 4        \n",
              "  median(IQR)                                  \n",
              "                                               \n",
              "age           Fisher's exact test       < 0.001\n",
              "   5-11                                        \n",
              "   12-17                                       \n",
              "   18-40                                       \n",
              "                                               \n",
              "inter         Sample too small: group 4        \n",
              "  median(IQR)                                  \n",
              "                                               \n",
              "inter_g       Fisher's exact test       0.002  \n",
              "   0-1                                         \n",
              "   2-7                                         \n",
              "   8-30                                        \n",
              "                                               \n",
              "los           Sample too small: group 4        \n",
              "  median(IQR)                                  \n",
              "                                               \n",
              "deathdc       Fisher's exact test       1      \n",
              "   Alive                                       \n",
              "   Dead                                        \n",
              "                                               "
            ]
          },
          "metadata": {}
        }
      ]
    },
    {
      "cell_type": "code",
      "source": [
        "round(by(vac[myo==TRUE]$age_y,vac[myo==TRUE]$group,mean),1)"
      ],
      "metadata": {
        "colab": {
          "base_uri": "https://localhost:8080/",
          "height": 260
        },
        "id": "zLOcD2hFrdv7",
        "outputId": "7a8d23f1-ee4f-4c3d-d991-3c7cda70dae2"
      },
      "execution_count": null,
      "outputs": [
        {
          "output_type": "display_data",
          "data": {
            "text/plain": [
              "vac[myo == TRUE]$group: pz\n",
              "[1] 13.8\n",
              "------------------------------------------------------------ \n",
              "vac[myo == TRUE]$group: pz-pz\n",
              "[1] 14.3\n",
              "------------------------------------------------------------ \n",
              "vac[myo == TRUE]$group: pz-pz-pz\n",
              "[1] 14.6\n",
              "------------------------------------------------------------ \n",
              "vac[myo == TRUE]$group: sp\n",
              "[1] 22\n",
              "------------------------------------------------------------ \n",
              "vac[myo == TRUE]$group: sp-sp-pz\n",
              "[1] 23.7"
            ]
          },
          "metadata": {}
        }
      ]
    },
    {
      "cell_type": "code",
      "source": [
        "round(by(vac[myo==TRUE]$age_y,vac[myo==TRUE]$group,sd),1)"
      ],
      "metadata": {
        "colab": {
          "base_uri": "https://localhost:8080/",
          "height": 260
        },
        "id": "eaThXGimsaMc",
        "outputId": "7faa50f3-b45d-4165-e1df-b1e0a6870129"
      },
      "execution_count": null,
      "outputs": [
        {
          "output_type": "display_data",
          "data": {
            "text/plain": [
              "vac[myo == TRUE]$group: pz\n",
              "[1] 2.7\n",
              "------------------------------------------------------------ \n",
              "vac[myo == TRUE]$group: pz-pz\n",
              "[1] 3.5\n",
              "------------------------------------------------------------ \n",
              "vac[myo == TRUE]$group: pz-pz-pz\n",
              "[1] 2.4\n",
              "------------------------------------------------------------ \n",
              "vac[myo == TRUE]$group: sp\n",
              "[1] 1.4\n",
              "------------------------------------------------------------ \n",
              "vac[myo == TRUE]$group: sp-sp-pz\n",
              "[1] 8.1"
            ]
          },
          "metadata": {}
        }
      ]
    },
    {
      "cell_type": "markdown",
      "source": [
        "Pericarditis"
      ],
      "metadata": {
        "id": "UywN1kl4syha"
      }
    },
    {
      "cell_type": "code",
      "source": [
        "tab1(vac[peri==TRUE]$group)"
      ],
      "metadata": {
        "colab": {
          "base_uri": "https://localhost:8080/",
          "height": 786
        },
        "id": "xLYfpMVGtpCD",
        "outputId": "68906fbc-a3c8-4361-f5bf-55a4f0894d62"
      },
      "execution_count": null,
      "outputs": [
        {
          "output_type": "display_data",
          "data": {
            "text/html": [
              "<dl>\n",
              "\t<dt>$first.line</dt>\n",
              "\t\t<dd>'vac[peri == TRUE]$group : \\n'</dd>\n",
              "\t<dt>$output.table</dt>\n",
              "\t\t<dd><table class=\"dataframe\">\n",
              "<caption>A matrix: 7 × 3 of type dbl</caption>\n",
              "<thead>\n",
              "\t<tr><th></th><th scope=col>Frequency</th><th scope=col>Percent</th><th scope=col>Cum. percent</th></tr>\n",
              "</thead>\n",
              "<tbody>\n",
              "\t<tr><th scope=row>pz</th><td>16</td><td> 32</td><td> 32</td></tr>\n",
              "\t<tr><th scope=row>pz-pz</th><td>29</td><td> 58</td><td> 90</td></tr>\n",
              "\t<tr><th scope=row>pz-pz-pz</th><td> 2</td><td>  4</td><td> 94</td></tr>\n",
              "\t<tr><th scope=row>sp</th><td> 1</td><td>  2</td><td> 96</td></tr>\n",
              "\t<tr><th scope=row>sp-sp</th><td> 1</td><td>  2</td><td> 98</td></tr>\n",
              "\t<tr><th scope=row>sp-sp-pz</th><td> 1</td><td>  2</td><td>100</td></tr>\n",
              "\t<tr><th scope=row>  Total</th><td>50</td><td>100</td><td>100</td></tr>\n",
              "</tbody>\n",
              "</table>\n",
              "</dd>\n",
              "</dl>\n"
            ],
            "text/markdown": "$first.line\n:   'vac[peri == TRUE]$group : \\n'\n$output.table\n:   \nA matrix: 7 × 3 of type dbl\n\n| <!--/--> | Frequency | Percent | Cum. percent |\n|---|---|---|---|\n| pz | 16 |  32 |  32 |\n| pz-pz | 29 |  58 |  90 |\n| pz-pz-pz |  2 |   4 |  94 |\n| sp |  1 |   2 |  96 |\n| sp-sp |  1 |   2 |  98 |\n| sp-sp-pz |  1 |   2 | 100 |\n|   Total | 50 | 100 | 100 |\n\n\n\n\n",
            "text/latex": "\\begin{description}\n\\item[\\$first.line] 'vac{[}peri == TRUE{]}\\$group : \\textbackslash{}n'\n\\item[\\$output.table] A matrix: 7 × 3 of type dbl\n\\begin{tabular}{r|lll}\n  & Frequency & Percent & Cum. percent\\\\\n\\hline\n\tpz & 16 &  32 &  32\\\\\n\tpz-pz & 29 &  58 &  90\\\\\n\tpz-pz-pz &  2 &   4 &  94\\\\\n\tsp &  1 &   2 &  96\\\\\n\tsp-sp &  1 &   2 &  98\\\\\n\tsp-sp-pz &  1 &   2 & 100\\\\\n\t  Total & 50 & 100 & 100\\\\\n\\end{tabular}\n\n\\end{description}\n",
            "text/plain": [
              "vac[peri == TRUE]$group : \n",
              "         Frequency Percent Cum. percent\n",
              "pz              16      32           32\n",
              "pz-pz           29      58           90\n",
              "pz-pz-pz         2       4           94\n",
              "sp               1       2           96\n",
              "sp-sp            1       2           98\n",
              "sp-sp-pz         1       2          100\n",
              "  Total         50     100          100"
            ]
          },
          "metadata": {}
        },
        {
          "output_type": "display_data",
          "data": {
            "text/plain": [
              "Plot with title “Distribution of vac[peri == TRUE]$group”"
            ],
            "image/png": "[encoded data removed]"
          },
          "metadata": {
            "image/png": {
              "width": 420,
              "height": 420
            }
          }
        }
      ]
    },
    {
      "cell_type": "code",
      "source": [
        "tableStack(sex:deathdc,by=group,data=vac[peri==TRUE & group %in% c(\"pz\",\"pz-pz\")])"
      ],
      "metadata": {
        "colab": {
          "base_uri": "https://localhost:8080/",
          "height": 520
        },
        "id": "G6fillkIs0ta",
        "outputId": "6870f663-3c4b-4d9d-bb33-d67b37b04def"
      },
      "execution_count": null,
      "outputs": [
        {
          "output_type": "display_data",
          "data": {
            "text/plain": [
              "              pz             pz-pz     Test stat.             P value\n",
              "Total         16             29                                      \n",
              "                                                                     \n",
              "sex                                    Fisher's exact test    0.65   \n",
              "   Female     3 (18.8)       3 (10.3)                                \n",
              "   Male       13 (81.2)      26 (89.7)                               \n",
              "                                                                     \n",
              "age_y                                  t-test  (43 df) = 0.23 0.822  \n",
              "  mean(SD)    14.8 (2.8)     14.6 (2)                                \n",
              "                                                                     \n",
              "age                                    Fisher's exact test    0.121  \n",
              "   5-11       1 (6.2)        0 (0)                                   \n",
              "   12-17      14 (87.5)      29 (100)                                \n",
              "   18-40      1 (6.2)        0 (0)                                   \n",
              "                                                                     \n",
              "inter                                  Ranksum test           0.008  \n",
              "  median(IQR) 4.5 (3.8,13.2) 2 (1,4)                                 \n",
              "                                                                     \n",
              "inter_g                                Fisher's exact test    0.141  \n",
              "   0-1        1 (6.2)        9 (31)                                  \n",
              "   2-7        10 (62.5)      15 (51.7)                               \n",
              "   8-30       5 (31.2)       5 (17.2)                                \n",
              "                                                                     \n",
              "los                                    Ranksum test           0.689  \n",
              "  median(IQR) 3 (2,4.2)      2 (2,5)                                 \n",
              "                                                                     \n",
              "deathdc                                Chisq. (1 df) = 3.76   0.053  \n",
              "   Alive      16 (100)       29 (100)                                \n",
              "                                                                     "
            ]
          },
          "metadata": {}
        }
      ]
    },
    {
      "cell_type": "code",
      "source": [
        "vac[peri==TRUE & group == \"pz-pz-pz\"]"
      ],
      "metadata": {
        "colab": {
          "base_uri": "https://localhost:8080/",
          "height": 161
        },
        "id": "Xe542IjytkeU",
        "outputId": "6d09b2a6-0ebd-4008-f82b-86c6bb0b130b"
      },
      "execution_count": null,
      "outputs": [
        {
          "output_type": "display_data",
          "data": {
            "text/html": [
              "<table class=\"dataframe\">\n",
              "<caption>A data.table: 2 × 11</caption>\n",
              "<thead>\n",
              "\t<tr><th scope=col>genid</th><th scope=col>myo</th><th scope=col>peri</th><th scope=col>sex</th><th scope=col>age_y</th><th scope=col>age</th><th scope=col>inter</th><th scope=col>inter_g</th><th scope=col>los</th><th scope=col>deathdc</th><th scope=col>group</th></tr>\n",
              "\t<tr><th scope=col>&lt;int&gt;</th><th scope=col>&lt;lgl&gt;</th><th scope=col>&lt;lgl&gt;</th><th scope=col>&lt;chr&gt;</th><th scope=col>&lt;int&gt;</th><th scope=col>&lt;fct&gt;</th><th scope=col>&lt;dbl&gt;</th><th scope=col>&lt;fct&gt;</th><th scope=col>&lt;dbl&gt;</th><th scope=col>&lt;chr&gt;</th><th scope=col>&lt;chr&gt;</th></tr>\n",
              "</thead>\n",
              "<tbody>\n",
              "\t<tr><td>257</td><td>FALSE</td><td>TRUE</td><td>Male</td><td>16</td><td>12-17</td><td>7</td><td>2-7</td><td>5</td><td>Alive</td><td>pz-pz-pz</td></tr>\n",
              "\t<tr><td>258</td><td>FALSE</td><td>TRUE</td><td>Male</td><td>14</td><td>12-17</td><td>2</td><td>2-7</td><td>2</td><td>Alive</td><td>pz-pz-pz</td></tr>\n",
              "</tbody>\n",
              "</table>\n"
            ],
            "text/markdown": "\nA data.table: 2 × 11\n\n| genid &lt;int&gt; | myo &lt;lgl&gt; | peri &lt;lgl&gt; | sex &lt;chr&gt; | age_y &lt;int&gt; | age &lt;fct&gt; | inter &lt;dbl&gt; | inter_g &lt;fct&gt; | los &lt;dbl&gt; | deathdc &lt;chr&gt; | group &lt;chr&gt; |\n|---|---|---|---|---|---|---|---|---|---|---|\n| 257 | FALSE | TRUE | Male | 16 | 12-17 | 7 | 2-7 | 5 | Alive | pz-pz-pz |\n| 258 | FALSE | TRUE | Male | 14 | 12-17 | 2 | 2-7 | 2 | Alive | pz-pz-pz |\n\n",
            "text/latex": "A data.table: 2 × 11\n\\begin{tabular}{lllllllllll}\n genid & myo & peri & sex & age\\_y & age & inter & inter\\_g & los & deathdc & group\\\\\n <int> & <lgl> & <lgl> & <chr> & <int> & <fct> & <dbl> & <fct> & <dbl> & <chr> & <chr>\\\\\n\\hline\n\t 257 & FALSE & TRUE & Male & 16 & 12-17 & 7 & 2-7 & 5 & Alive & pz-pz-pz\\\\\n\t 258 & FALSE & TRUE & Male & 14 & 12-17 & 2 & 2-7 & 2 & Alive & pz-pz-pz\\\\\n\\end{tabular}\n",
            "text/plain": [
              "  genid myo   peri sex  age_y age   inter inter_g los deathdc group   \n",
              "1 257   FALSE TRUE Male 16    12-17 7     2-7     5   Alive   pz-pz-pz\n",
              "2 258   FALSE TRUE Male 14    12-17 2     2-7     2   Alive   pz-pz-pz"
            ]
          },
          "metadata": {}
        }
      ]
    },
    {
      "cell_type": "code",
      "source": [
        "vac[peri==TRUE & group == \"sp\"]"
      ],
      "metadata": {
        "colab": {
          "base_uri": "https://localhost:8080/",
          "height": 129
        },
        "id": "Wvl4us84v5EE",
        "outputId": "ba448d6f-9066-4453-cd74-6fdb2674d380"
      },
      "execution_count": null,
      "outputs": [
        {
          "output_type": "display_data",
          "data": {
            "text/html": [
              "<table class=\"dataframe\">\n",
              "<caption>A data.table: 1 × 11</caption>\n",
              "<thead>\n",
              "\t<tr><th scope=col>genid</th><th scope=col>myo</th><th scope=col>peri</th><th scope=col>sex</th><th scope=col>age_y</th><th scope=col>age</th><th scope=col>inter</th><th scope=col>inter_g</th><th scope=col>los</th><th scope=col>deathdc</th><th scope=col>group</th></tr>\n",
              "\t<tr><th scope=col>&lt;int&gt;</th><th scope=col>&lt;lgl&gt;</th><th scope=col>&lt;lgl&gt;</th><th scope=col>&lt;chr&gt;</th><th scope=col>&lt;int&gt;</th><th scope=col>&lt;fct&gt;</th><th scope=col>&lt;dbl&gt;</th><th scope=col>&lt;fct&gt;</th><th scope=col>&lt;dbl&gt;</th><th scope=col>&lt;chr&gt;</th><th scope=col>&lt;chr&gt;</th></tr>\n",
              "</thead>\n",
              "<tbody>\n",
              "\t<tr><td>1</td><td>TRUE</td><td>TRUE</td><td>Male</td><td>23</td><td>18-40</td><td>9</td><td>8-30</td><td>18</td><td>Alive</td><td>sp</td></tr>\n",
              "</tbody>\n",
              "</table>\n"
            ],
            "text/markdown": "\nA data.table: 1 × 11\n\n| genid &lt;int&gt; | myo &lt;lgl&gt; | peri &lt;lgl&gt; | sex &lt;chr&gt; | age_y &lt;int&gt; | age &lt;fct&gt; | inter &lt;dbl&gt; | inter_g &lt;fct&gt; | los &lt;dbl&gt; | deathdc &lt;chr&gt; | group &lt;chr&gt; |\n|---|---|---|---|---|---|---|---|---|---|---|\n| 1 | TRUE | TRUE | Male | 23 | 18-40 | 9 | 8-30 | 18 | Alive | sp |\n\n",
            "text/latex": "A data.table: 1 × 11\n\\begin{tabular}{lllllllllll}\n genid & myo & peri & sex & age\\_y & age & inter & inter\\_g & los & deathdc & group\\\\\n <int> & <lgl> & <lgl> & <chr> & <int> & <fct> & <dbl> & <fct> & <dbl> & <chr> & <chr>\\\\\n\\hline\n\t 1 & TRUE & TRUE & Male & 23 & 18-40 & 9 & 8-30 & 18 & Alive & sp\\\\\n\\end{tabular}\n",
            "text/plain": [
              "  genid myo  peri sex  age_y age   inter inter_g los deathdc group\n",
              "1 1     TRUE TRUE Male 23    18-40 9     8-30    18  Alive   sp   "
            ]
          },
          "metadata": {}
        }
      ]
    },
    {
      "cell_type": "code",
      "source": [
        "vac[peri==TRUE & group == \"sp-sp\"]"
      ],
      "metadata": {
        "colab": {
          "base_uri": "https://localhost:8080/",
          "height": 129
        },
        "id": "u7U7r1pzv7NU",
        "outputId": "e636adc0-e129-465d-ba06-0ede4a80bc9e"
      },
      "execution_count": null,
      "outputs": [
        {
          "output_type": "display_data",
          "data": {
            "text/html": [
              "<table class=\"dataframe\">\n",
              "<caption>A data.table: 1 × 11</caption>\n",
              "<thead>\n",
              "\t<tr><th scope=col>genid</th><th scope=col>myo</th><th scope=col>peri</th><th scope=col>sex</th><th scope=col>age_y</th><th scope=col>age</th><th scope=col>inter</th><th scope=col>inter_g</th><th scope=col>los</th><th scope=col>deathdc</th><th scope=col>group</th></tr>\n",
              "\t<tr><th scope=col>&lt;int&gt;</th><th scope=col>&lt;lgl&gt;</th><th scope=col>&lt;lgl&gt;</th><th scope=col>&lt;chr&gt;</th><th scope=col>&lt;int&gt;</th><th scope=col>&lt;fct&gt;</th><th scope=col>&lt;dbl&gt;</th><th scope=col>&lt;fct&gt;</th><th scope=col>&lt;dbl&gt;</th><th scope=col>&lt;chr&gt;</th><th scope=col>&lt;chr&gt;</th></tr>\n",
              "</thead>\n",
              "<tbody>\n",
              "\t<tr><td>79</td><td>FALSE</td><td>TRUE</td><td>Male</td><td>39</td><td>18-40</td><td>29</td><td>8-30</td><td>5</td><td>Alive</td><td>sp-sp</td></tr>\n",
              "</tbody>\n",
              "</table>\n"
            ],
            "text/markdown": "\nA data.table: 1 × 11\n\n| genid &lt;int&gt; | myo &lt;lgl&gt; | peri &lt;lgl&gt; | sex &lt;chr&gt; | age_y &lt;int&gt; | age &lt;fct&gt; | inter &lt;dbl&gt; | inter_g &lt;fct&gt; | los &lt;dbl&gt; | deathdc &lt;chr&gt; | group &lt;chr&gt; |\n|---|---|---|---|---|---|---|---|---|---|---|\n| 79 | FALSE | TRUE | Male | 39 | 18-40 | 29 | 8-30 | 5 | Alive | sp-sp |\n\n",
            "text/latex": "A data.table: 1 × 11\n\\begin{tabular}{lllllllllll}\n genid & myo & peri & sex & age\\_y & age & inter & inter\\_g & los & deathdc & group\\\\\n <int> & <lgl> & <lgl> & <chr> & <int> & <fct> & <dbl> & <fct> & <dbl> & <chr> & <chr>\\\\\n\\hline\n\t 79 & FALSE & TRUE & Male & 39 & 18-40 & 29 & 8-30 & 5 & Alive & sp-sp\\\\\n\\end{tabular}\n",
            "text/plain": [
              "  genid myo   peri sex  age_y age   inter inter_g los deathdc group\n",
              "1 79    FALSE TRUE Male 39    18-40 29    8-30    5   Alive   sp-sp"
            ]
          },
          "metadata": {}
        }
      ]
    },
    {
      "cell_type": "code",
      "source": [
        "vac[peri==TRUE & group == \"sp-sp-pz\"]"
      ],
      "metadata": {
        "id": "aCgkbkayv9uL",
        "outputId": "ef972269-3cfc-450d-9fd1-d746f0b44f92",
        "colab": {
          "base_uri": "https://localhost:8080/",
          "height": 129
        }
      },
      "execution_count": null,
      "outputs": [
        {
          "output_type": "display_data",
          "data": {
            "text/html": [
              "<table class=\"dataframe\">\n",
              "<caption>A data.table: 1 × 11</caption>\n",
              "<thead>\n",
              "\t<tr><th scope=col>genid</th><th scope=col>myo</th><th scope=col>peri</th><th scope=col>sex</th><th scope=col>age_y</th><th scope=col>age</th><th scope=col>inter</th><th scope=col>inter_g</th><th scope=col>los</th><th scope=col>deathdc</th><th scope=col>group</th></tr>\n",
              "\t<tr><th scope=col>&lt;int&gt;</th><th scope=col>&lt;lgl&gt;</th><th scope=col>&lt;lgl&gt;</th><th scope=col>&lt;chr&gt;</th><th scope=col>&lt;int&gt;</th><th scope=col>&lt;fct&gt;</th><th scope=col>&lt;dbl&gt;</th><th scope=col>&lt;fct&gt;</th><th scope=col>&lt;dbl&gt;</th><th scope=col>&lt;chr&gt;</th><th scope=col>&lt;chr&gt;</th></tr>\n",
              "</thead>\n",
              "<tbody>\n",
              "\t<tr><td>254</td><td>FALSE</td><td>TRUE</td><td>Male</td><td>23</td><td>18-40</td><td>10</td><td>8-30</td><td>5</td><td>Alive</td><td>sp-sp-pz</td></tr>\n",
              "</tbody>\n",
              "</table>\n"
            ],
            "text/markdown": "\nA data.table: 1 × 11\n\n| genid &lt;int&gt; | myo &lt;lgl&gt; | peri &lt;lgl&gt; | sex &lt;chr&gt; | age_y &lt;int&gt; | age &lt;fct&gt; | inter &lt;dbl&gt; | inter_g &lt;fct&gt; | los &lt;dbl&gt; | deathdc &lt;chr&gt; | group &lt;chr&gt; |\n|---|---|---|---|---|---|---|---|---|---|---|\n| 254 | FALSE | TRUE | Male | 23 | 18-40 | 10 | 8-30 | 5 | Alive | sp-sp-pz |\n\n",
            "text/latex": "A data.table: 1 × 11\n\\begin{tabular}{lllllllllll}\n genid & myo & peri & sex & age\\_y & age & inter & inter\\_g & los & deathdc & group\\\\\n <int> & <lgl> & <lgl> & <chr> & <int> & <fct> & <dbl> & <fct> & <dbl> & <chr> & <chr>\\\\\n\\hline\n\t 254 & FALSE & TRUE & Male & 23 & 18-40 & 10 & 8-30 & 5 & Alive & sp-sp-pz\\\\\n\\end{tabular}\n",
            "text/plain": [
              "  genid myo   peri sex  age_y age   inter inter_g los deathdc group   \n",
              "1 254   FALSE TRUE Male 23    18-40 10    8-30    5   Alive   sp-sp-pz"
            ]
          },
          "metadata": {}
        }
      ]
    },
    {
      "cell_type": "code",
      "source": [
        "round(by(vac[peri==TRUE]$age_y,vac[peri==TRUE]$group,mean),1)"
      ],
      "metadata": {
        "colab": {
          "base_uri": "https://localhost:8080/",
          "height": 312
        },
        "id": "7nPElsANvOXL",
        "outputId": "14378fa1-24fd-4fb9-b573-b2d6c256fde1"
      },
      "execution_count": null,
      "outputs": [
        {
          "output_type": "display_data",
          "data": {
            "text/plain": [
              "vac[peri == TRUE]$group: pz\n",
              "[1] 14.8\n",
              "------------------------------------------------------------ \n",
              "vac[peri == TRUE]$group: pz-pz\n",
              "[1] 14.6\n",
              "------------------------------------------------------------ \n",
              "vac[peri == TRUE]$group: pz-pz-pz\n",
              "[1] 15\n",
              "------------------------------------------------------------ \n",
              "vac[peri == TRUE]$group: sp\n",
              "[1] 23\n",
              "------------------------------------------------------------ \n",
              "vac[peri == TRUE]$group: sp-sp\n",
              "[1] 39\n",
              "------------------------------------------------------------ \n",
              "vac[peri == TRUE]$group: sp-sp-pz\n",
              "[1] 23"
            ]
          },
          "metadata": {}
        }
      ]
    },
    {
      "cell_type": "code",
      "source": [
        "round(by(vac[peri==TRUE]$age_y,vac[peri==TRUE]$group,sd),1)"
      ],
      "metadata": {
        "colab": {
          "base_uri": "https://localhost:8080/",
          "height": 312
        },
        "id": "iU5T0oI2vhBU",
        "outputId": "38d45452-7285-4909-b8a8-1d267f6a9fdb"
      },
      "execution_count": null,
      "outputs": [
        {
          "output_type": "display_data",
          "data": {
            "text/plain": [
              "vac[peri == TRUE]$group: pz\n",
              "[1] 2.8\n",
              "------------------------------------------------------------ \n",
              "vac[peri == TRUE]$group: pz-pz\n",
              "[1] 2\n",
              "------------------------------------------------------------ \n",
              "vac[peri == TRUE]$group: pz-pz-pz\n",
              "[1] 1.4\n",
              "------------------------------------------------------------ \n",
              "vac[peri == TRUE]$group: sp\n",
              "[1] NA\n",
              "------------------------------------------------------------ \n",
              "vac[peri == TRUE]$group: sp-sp\n",
              "[1] NA\n",
              "------------------------------------------------------------ \n",
              "vac[peri == TRUE]$group: sp-sp-pz\n",
              "[1] NA"
            ]
          },
          "metadata": {}
        }
      ]
    },
    {
      "cell_type": "markdown",
      "source": [
        "# **Poisson regression**"
      ],
      "metadata": {
        "id": "2ffBY8IYLWWk"
      }
    },
    {
      "cell_type": "code",
      "source": [
        "temp <- tempfile()\n",
        "download.file(\"https://drive.google.com/uc?id=1v_fr9tZpV_hvriPSUw9oGHbmJZRc20GE&authuser=0&export=download\", temp)\n",
        "cdat<-read_excel(temp)"
      ],
      "metadata": {
        "id": "wLyat239LaIt"
      },
      "execution_count": null,
      "outputs": []
    },
    {
      "cell_type": "code",
      "source": [
        "glimpse(cdat)"
      ],
      "metadata": {
        "colab": {
          "base_uri": "https://localhost:8080/"
        },
        "id": "QhWOjPkwLmEz",
        "outputId": "872d1650-abdc-459a-b0de-fab34d482127"
      },
      "execution_count": null,
      "outputs": [
        {
          "output_type": "stream",
          "name": "stdout",
          "text": [
            "Rows: 48\n",
            "Columns: 6\n",
            "$ status \u001b[3m\u001b[90m<chr>\u001b[39m\u001b[23m \"infected\", \"infected\", \"infected\", \"infected\", \"infected\", \"in…\n",
            "$ sex    \u001b[3m\u001b[90m<chr>\u001b[39m\u001b[23m \"Female\", \"Female\", \"Female\", \"Male\", \"Male\", \"Male\", \"Female\",…\n",
            "$ age    \u001b[3m\u001b[90m<chr>\u001b[39m\u001b[23m \"12-17\", \"18-40\", \"5-11\", \"12-17\", \"18-40\", \"5-11\", \"12-17\", \"1…\n",
            "$ n_myo  \u001b[3m\u001b[90m<dbl>\u001b[39m\u001b[23m 1, 5, 1, 1, 4, 6, 14, 1, 4, 39, 1, 2, 38, 1, 4, 96, 4, 1, 3, 0,…\n",
            "$ n_peri \u001b[3m\u001b[90m<dbl>\u001b[39m\u001b[23m 0, 0, 0, 0, 2, 0, 2, 0, 1, 12, 1, 0, 3, 0, 0, 26, 0, 0, 0, 0, 0…\n",
            "$ N      \u001b[3m\u001b[90m<dbl>\u001b[39m\u001b[23m 30114, 176521, 19591, 29865, 170011, 19481, 1522883, 376076, 14…\n"
          ]
        }
      ]
    },
    {
      "cell_type": "code",
      "source": [
        "cdat$status<-factor(cdat$status,levels = c(\"unvaccinated\",\"infected\",\"PZ\",\"PZ-PZ\",\"PZ-PZ-PZ\",\"SP\",\"SP-SP\",\"SP-SP-PZ\"))"
      ],
      "metadata": {
        "id": "5IxO9SnNLxjo"
      },
      "execution_count": null,
      "outputs": []
    },
    {
      "cell_type": "code",
      "source": [
        "cdat$sex<-factor(cdat$sex,levels = c(\"Female\",\"Male\"))"
      ],
      "metadata": {
        "id": "b_X_yJZxMK1Y"
      },
      "execution_count": null,
      "outputs": []
    },
    {
      "cell_type": "code",
      "source": [
        "cdat$age<-factor(cdat$age,levels = c(\"18-40\",\"12-17\",\"5-11\"))"
      ],
      "metadata": {
        "id": "xmzp2504NVhE"
      },
      "execution_count": null,
      "outputs": []
    },
    {
      "cell_type": "code",
      "source": [
        "model_myo <- glm(n_myo ~ status + sex + age, family = poisson(link = \"log\"), data = cdat,\n",
        "             offset=log(N))"
      ],
      "metadata": {
        "id": "ISm6SyuuNdKb"
      },
      "execution_count": null,
      "outputs": []
    },
    {
      "cell_type": "code",
      "source": [
        "idr.display(model_myo)"
      ],
      "metadata": {
        "colab": {
          "base_uri": "https://localhost:8080/",
          "height": 617
        },
        "id": "hQLJAj1-OMuY",
        "outputId": "c8dd8358-33b1-4c57-d612-a36d831ea90b"
      },
      "execution_count": null,
      "outputs": [
        {
          "output_type": "stream",
          "name": "stdout",
          "text": [
            "\n"
          ]
        },
        {
          "output_type": "display_data",
          "data": {
            "text/html": [
              "<dl>\n",
              "\t<dt>$first.line</dt>\n",
              "\t\t<dd>'\\nPoisson regression predicting n_myo with offset = log(N) \\n'</dd>\n",
              "\t<dt>$table</dt>\n",
              "\t\t<dd><table class=\"dataframe\">\n",
              "<caption>A matrix: 15 × 4 of type chr</caption>\n",
              "<thead>\n",
              "\t<tr><th></th><th scope=col>crude IDR(95%CI)</th><th scope=col>adj. IDR(95%CI)</th><th scope=col>P(Wald's test)</th><th scope=col>P(LR-test)</th></tr>\n",
              "</thead>\n",
              "<tbody>\n",
              "\t<tr><th scope=row>status: ref.=unvaccinated</th><td><span style=white-space:pre-wrap>                    </span></td><td><span style=white-space:pre-wrap>                   </span></td><td><span style=white-space:pre-wrap>       </span></td><td>&lt; 0.001</td></tr>\n",
              "\t<tr><th scope=row>   infected</th><td>26.92 (15.86,45.68) </td><td><span style=white-space:pre-wrap>33.8 (19.59,58.3)  </span></td><td>&lt; 0.001</td><td><span style=white-space:pre-wrap>       </span></td></tr>\n",
              "\t<tr><th scope=row>   PZ</th><td><span style=white-space:pre-wrap>6.1 (4.26,8.74)     </span></td><td><span style=white-space:pre-wrap>4.4 (3.05,6.34)    </span></td><td>&lt; 0.001</td><td><span style=white-space:pre-wrap>       </span></td></tr>\n",
              "\t<tr><th scope=row>   PZ-PZ</th><td><span style=white-space:pre-wrap>16.22 (11.96,22)    </span></td><td>10.79 (7.88,14.77) </td><td>&lt; 0.001</td><td><span style=white-space:pre-wrap>       </span></td></tr>\n",
              "\t<tr><th scope=row>   PZ-PZ-PZ</th><td><span style=white-space:pre-wrap>5.99 (3.06,11.71)   </span></td><td><span style=white-space:pre-wrap>3.29 (1.67,6.49)   </span></td><td>&lt; 0.001</td><td><span style=white-space:pre-wrap>       </span></td></tr>\n",
              "\t<tr><th scope=row>   SP</th><td>0.58 (0.14,2.37)    </td><td>0.98 (0.23,4.1)    </td><td>0.973  </td><td>       </td></tr>\n",
              "\t<tr><th scope=row>   SP-SP</th><td>0 (0,Inf)           </td><td>0 (0,Inf)          </td><td>0.99   </td><td>       </td></tr>\n",
              "\t<tr><th scope=row>   SP-SP-PZ</th><td>1.6 (0.5,5.11)      </td><td>2.81 (0.85,9.27)   </td><td>0.09   </td><td>       </td></tr>\n",
              "\t<tr><th scope=row></th><td>                    </td><td>                   </td><td>       </td><td>       </td></tr>\n",
              "\t<tr><th scope=row>sex: Male vs Female</th><td><span style=white-space:pre-wrap>1.91 (1.5,2.43)     </span></td><td><span style=white-space:pre-wrap>2.04 (1.6,2.6)     </span></td><td>&lt; 0.001</td><td>&lt; 0.001</td></tr>\n",
              "\t<tr><th scope=row></th><td>                    </td><td>                   </td><td>       </td><td>       </td></tr>\n",
              "\t<tr><th scope=row>age: ref.=18-40</th><td><span style=white-space:pre-wrap>                    </span></td><td><span style=white-space:pre-wrap>                   </span></td><td><span style=white-space:pre-wrap>       </span></td><td>&lt; 0.001</td></tr>\n",
              "\t<tr><th scope=row>   12-17</th><td><span style=white-space:pre-wrap>8.27 (5.82,11.77)   </span></td><td><span style=white-space:pre-wrap>4.42 (2.95,6.63)   </span></td><td>&lt; 0.001</td><td><span style=white-space:pre-wrap>       </span></td></tr>\n",
              "\t<tr><th scope=row>   5-11</th><td>1.23 (0.78,1.93)    </td><td>0.93 (0.57,1.52)   </td><td>0.785  </td><td>       </td></tr>\n",
              "\t<tr><th scope=row></th><td>                    </td><td>                   </td><td>       </td><td>       </td></tr>\n",
              "</tbody>\n",
              "</table>\n",
              "</dd>\n",
              "\t<dt>$last.lines</dt>\n",
              "\t\t<dd>'Log-likelihood = -89.8643\\nNo. of observations = 48\\nAIC value = 201.7285\\n\\n'</dd>\n",
              "</dl>\n"
            ],
            "text/markdown": "$first.line\n:   '\\nPoisson regression predicting n_myo with offset = log(N) \\n'\n$table\n:   \nA matrix: 15 × 4 of type chr\n\n| <!--/--> | crude IDR(95%CI) | adj. IDR(95%CI) | P(Wald's test) | P(LR-test) |\n|---|---|---|---|---|\n| status: ref.=unvaccinated | <!----> | <!----> | <!----> | &lt; 0.001 |\n|    infected | 26.92 (15.86,45.68)  | 33.8 (19.59,58.3)   | &lt; 0.001 | <!----> |\n|    PZ | 6.1 (4.26,8.74)      | 4.4 (3.05,6.34)     | &lt; 0.001 | <!----> |\n|    PZ-PZ | 16.22 (11.96,22)     | 10.79 (7.88,14.77)  | &lt; 0.001 | <!----> |\n|    PZ-PZ-PZ | 5.99 (3.06,11.71)    | 3.29 (1.67,6.49)    | &lt; 0.001 | <!----> |\n|    SP | 0.58 (0.14,2.37)     | 0.98 (0.23,4.1)     | 0.973   | <!----> |\n|    SP-SP | 0 (0,Inf)            | 0 (0,Inf)           | 0.99    | <!----> |\n|    SP-SP-PZ | 1.6 (0.5,5.11)       | 2.81 (0.85,9.27)    | 0.09    | <!----> |\n| <!----> | <!----> | <!----> | <!----> | <!----> |\n| sex: Male vs Female | 1.91 (1.5,2.43)      | 2.04 (1.6,2.6)      | &lt; 0.001 | &lt; 0.001 |\n| <!----> | <!----> | <!----> | <!----> | <!----> |\n| age: ref.=18-40 | <!----> | <!----> | <!----> | &lt; 0.001 |\n|    12-17 | 8.27 (5.82,11.77)    | 4.42 (2.95,6.63)    | &lt; 0.001 | <!----> |\n|    5-11 | 1.23 (0.78,1.93)     | 0.93 (0.57,1.52)    | 0.785   | <!----> |\n| <!----> | <!----> | <!----> | <!----> | <!----> |\n\n\n$last.lines\n:   'Log-likelihood = -89.8643\\nNo. of observations = 48\\nAIC value = 201.7285\\n\\n'\n\n\n",
            "text/latex": "\\begin{description}\n\\item[\\$first.line] '\\textbackslash{}nPoisson regression predicting n\\_myo with offset = log(N) \\textbackslash{}n'\n\\item[\\$table] A matrix: 15 × 4 of type chr\n\\begin{tabular}{r|llll}\n  & crude IDR(95\\%CI) & adj. IDR(95\\%CI) & P(Wald's test) & P(LR-test)\\\\\n\\hline\n\tstatus: ref.=unvaccinated &                      &                     &         & < 0.001\\\\\n\t   infected & 26.92 (15.86,45.68)  & 33.8 (19.59,58.3)   & < 0.001 &        \\\\\n\t   PZ & 6.1 (4.26,8.74)      & 4.4 (3.05,6.34)     & < 0.001 &        \\\\\n\t   PZ-PZ & 16.22 (11.96,22)     & 10.79 (7.88,14.77)  & < 0.001 &        \\\\\n\t   PZ-PZ-PZ & 5.99 (3.06,11.71)    & 3.29 (1.67,6.49)    & < 0.001 &        \\\\\n\t   SP & 0.58 (0.14,2.37)     & 0.98 (0.23,4.1)     & 0.973   &        \\\\\n\t   SP-SP & 0 (0,Inf)            & 0 (0,Inf)           & 0.99    &        \\\\\n\t   SP-SP-PZ & 1.6 (0.5,5.11)       & 2.81 (0.85,9.27)    & 0.09    &        \\\\\n\t &                      &                     &         &        \\\\\n\tsex: Male vs Female & 1.91 (1.5,2.43)      & 2.04 (1.6,2.6)      & < 0.001 & < 0.001\\\\\n\t &                      &                     &         &        \\\\\n\tage: ref.=18-40 &                      &                     &         & < 0.001\\\\\n\t   12-17 & 8.27 (5.82,11.77)    & 4.42 (2.95,6.63)    & < 0.001 &        \\\\\n\t   5-11 & 1.23 (0.78,1.93)     & 0.93 (0.57,1.52)    & 0.785   &        \\\\\n\t &                      &                     &         &        \\\\\n\\end{tabular}\n\n\\item[\\$last.lines] 'Log-likelihood = -89.8643\\textbackslash{}nNo. of observations = 48\\textbackslash{}nAIC value = 201.7285\\textbackslash{}n\\textbackslash{}n'\n\\end{description}\n",
            "text/plain": [
              "\n",
              "Poisson regression predicting n_myo with offset = log(N) \n",
              " \n",
              "                          crude IDR(95%CI)     adj. IDR(95%CI)    \n",
              "status: ref.=unvaccinated                                         \n",
              "   infected               26.92 (15.86,45.68)  33.8 (19.59,58.3)  \n",
              "   PZ                     6.1 (4.26,8.74)      4.4 (3.05,6.34)    \n",
              "   PZ-PZ                  16.22 (11.96,22)     10.79 (7.88,14.77) \n",
              "   PZ-PZ-PZ               5.99 (3.06,11.71)    3.29 (1.67,6.49)   \n",
              "   SP                     0.58 (0.14,2.37)     0.98 (0.23,4.1)    \n",
              "   SP-SP                  0 (0,Inf)            0 (0,Inf)          \n",
              "   SP-SP-PZ               1.6 (0.5,5.11)       2.81 (0.85,9.27)   \n",
              "                                                                  \n",
              "sex: Male vs Female       1.91 (1.5,2.43)      2.04 (1.6,2.6)     \n",
              "                                                                  \n",
              "age: ref.=18-40                                                   \n",
              "   12-17                  8.27 (5.82,11.77)    4.42 (2.95,6.63)   \n",
              "   5-11                   1.23 (0.78,1.93)     0.93 (0.57,1.52)   \n",
              "                                                                  \n",
              "                          P(Wald's test) P(LR-test)\n",
              "status: ref.=unvaccinated                < 0.001   \n",
              "   infected               < 0.001                  \n",
              "   PZ                     < 0.001                  \n",
              "   PZ-PZ                  < 0.001                  \n",
              "   PZ-PZ-PZ               < 0.001                  \n",
              "   SP                     0.973                    \n",
              "   SP-SP                  0.99                     \n",
              "   SP-SP-PZ               0.09                     \n",
              "                                                   \n",
              "sex: Male vs Female       < 0.001        < 0.001   \n",
              "                                                   \n",
              "age: ref.=18-40                          < 0.001   \n",
              "   12-17                  < 0.001                  \n",
              "   5-11                   0.785                    \n",
              "                                                   \n",
              "Log-likelihood = -89.8643\n",
              "No. of observations = 48\n",
              "AIC value = 201.7285\n"
            ]
          },
          "metadata": {}
        }
      ]
    },
    {
      "cell_type": "code",
      "source": [
        "dispersiontest(model_myo)"
      ],
      "metadata": {
        "colab": {
          "base_uri": "https://localhost:8080/",
          "height": 173
        },
        "id": "R1sP18i9jSLS",
        "outputId": "81bd6951-6728-450e-d961-ed8fd4a7d949"
      },
      "execution_count": null,
      "outputs": [
        {
          "output_type": "display_data",
          "data": {
            "text/plain": [
              "\n",
              "\tOverdispersion test\n",
              "\n",
              "data:  model_myo\n",
              "z = 1.4549, p-value = 0.07285\n",
              "alternative hypothesis: true dispersion is greater than 1\n",
              "sample estimates:\n",
              "dispersion \n",
              "  2.087577 \n"
            ]
          },
          "metadata": {}
        }
      ]
    },
    {
      "cell_type": "code",
      "source": [
        "df<-cdat\n",
        "df$predicted <- predict(model_myo, type=\"response\")\n",
        "\n",
        "# Calculate Pearson residuals\n",
        "df$residuals <- residuals(model_myo, type=\"pearson\")\n",
        "\n",
        "# Create residuals vs fitted values plot\n",
        "ggplot(df, aes(x = predicted, y = residuals)) +\n",
        "  geom_hline(yintercept = 0, color = \"red\") +\n",
        "  geom_point() +\n",
        "  theme_minimal() +\n",
        "  labs(x = \"Fitted values\",\n",
        "       y = \"Pearson residuals\",\n",
        "       title = \"Residuals vs Fitted values\")"
      ],
      "metadata": {
        "colab": {
          "base_uri": "https://localhost:8080/",
          "height": 437
        },
        "id": "UUmRUhAzkS6a",
        "outputId": "c4364b57-2de9-4e29-e601-3ae619dda25b"
      },
      "execution_count": null,
      "outputs": [
        {
          "output_type": "display_data",
          "data": {
            "text/plain": [
              "plot without title"
            ],
            "image/png": "[encoded data removed]"
          },
          "metadata": {
            "image/png": {
              "width": 420,
              "height": 420
            }
          }
        }
      ]
    },
    {
      "cell_type": "code",
      "source": [
        "t_myo<-idr.display(model_myo)"
      ],
      "metadata": {
        "colab": {
          "base_uri": "https://localhost:8080/"
        },
        "id": "4OJML7h9X6na",
        "outputId": "ee808618-5039-42d5-fa26-144ab4e1f244"
      },
      "execution_count": null,
      "outputs": [
        {
          "output_type": "stream",
          "name": "stdout",
          "text": [
            "\n"
          ]
        }
      ]
    },
    {
      "cell_type": "code",
      "source": [
        "write.csv(t_myo,\"t_myo.csv\")"
      ],
      "metadata": {
        "id": "SMBn95ieX988"
      },
      "execution_count": null,
      "outputs": []
    },
    {
      "cell_type": "code",
      "source": [
        "model_peri <- glm(n_peri ~ status + sex + age, family = poisson(link = \"log\"), data = cdat,\n",
        "             offset=log(N))"
      ],
      "metadata": {
        "id": "3ffEt9a8Vtkp"
      },
      "execution_count": null,
      "outputs": []
    },
    {
      "cell_type": "code",
      "source": [
        "idr.display(model_peri)"
      ],
      "metadata": {
        "colab": {
          "base_uri": "https://localhost:8080/",
          "height": 617
        },
        "id": "dvKAUjvOVzyK",
        "outputId": "327ebaa5-68ef-4808-b732-ac1dc585a34f"
      },
      "execution_count": null,
      "outputs": [
        {
          "output_type": "stream",
          "name": "stdout",
          "text": [
            "\n"
          ]
        },
        {
          "output_type": "display_data",
          "data": {
            "text/html": [
              "<dl>\n",
              "\t<dt>$first.line</dt>\n",
              "\t\t<dd>'\\nPoisson regression predicting n_peri with offset = log(N) \\n'</dd>\n",
              "\t<dt>$table</dt>\n",
              "\t\t<dd><table class=\"dataframe\">\n",
              "<caption>A matrix: 15 × 4 of type chr</caption>\n",
              "<thead>\n",
              "\t<tr><th></th><th scope=col>crude IDR(95%CI)</th><th scope=col>adj. IDR(95%CI)</th><th scope=col>P(Wald's test)</th><th scope=col>P(LR-test)</th></tr>\n",
              "</thead>\n",
              "<tbody>\n",
              "\t<tr><th scope=row>status: ref.=unvaccinated</th><td><span style=white-space:pre-wrap>                  </span></td><td><span style=white-space:pre-wrap>                  </span></td><td><span style=white-space:pre-wrap>       </span></td><td>&lt; 0.001</td></tr>\n",
              "\t<tr><th scope=row>   infected</th><td>5.26 (1.26,21.91) </td><td>4.06 (0.97,17.04) </td><td>0.056  </td><td>       </td></tr>\n",
              "\t<tr><th scope=row>   PZ</th><td>2.81 (1.55,5.11)  </td><td>2.85 (1.52,5.32)  </td><td>0.001  </td><td>       </td></tr>\n",
              "\t<tr><th scope=row>   PZ-PZ</th><td><span style=white-space:pre-wrap>5.74 (3.49,9.46)  </span></td><td><span style=white-space:pre-wrap>5.35 (3.13,9.15)  </span></td><td>&lt; 0.001</td><td><span style=white-space:pre-wrap>       </span></td></tr>\n",
              "\t<tr><th scope=row>   PZ-PZ-PZ</th><td>2.1 (0.5,8.77)    </td><td>1.77 (0.42,7.55)  </td><td>0.438  </td><td>       </td></tr>\n",
              "\t<tr><th scope=row>   SP</th><td>0.51 (0.07,3.72)  </td><td>0.38 (0.05,2.82)  </td><td>0.345  </td><td>       </td></tr>\n",
              "\t<tr><th scope=row>   SP-SP</th><td>0.42 (0.06,3.08)  </td><td>0.32 (0.04,2.33)  </td><td>0.259  </td><td>       </td></tr>\n",
              "\t<tr><th scope=row>   SP-SP-PZ</th><td>0.94 (0.13,6.86)  </td><td>0.73 (0.1,5.42)   </td><td>0.76   </td><td>       </td></tr>\n",
              "\t<tr><th scope=row></th><td>                  </td><td>                  </td><td>       </td><td>       </td></tr>\n",
              "\t<tr><th scope=row>sex: Male vs Female</th><td><span style=white-space:pre-wrap>4.95 (2.79,8.78)  </span></td><td><span style=white-space:pre-wrap>5.05 (2.84,8.96)  </span></td><td>&lt; 0.001</td><td>&lt; 0.001</td></tr>\n",
              "\t<tr><th scope=row></th><td>                  </td><td>                  </td><td>       </td><td>       </td></tr>\n",
              "\t<tr><th scope=row>age: ref.=18-40</th><td><span style=white-space:pre-wrap>                  </span></td><td><span style=white-space:pre-wrap>                  </span></td><td><span style=white-space:pre-wrap>       </span></td><td>&lt; 0.001</td></tr>\n",
              "\t<tr><th scope=row>   12-17</th><td>2.3 (1.47,3.61)   </td><td>1.21 (0.73,2.03)  </td><td>0.463  </td><td>       </td></tr>\n",
              "\t<tr><th scope=row>   5-11</th><td><span style=white-space:pre-wrap>0.15 (0.05,0.42)  </span></td><td><span style=white-space:pre-wrap>0.1 (0.03,0.28)   </span></td><td>&lt; 0.001</td><td><span style=white-space:pre-wrap>       </span></td></tr>\n",
              "\t<tr><th scope=row></th><td>                  </td><td>                  </td><td>       </td><td>       </td></tr>\n",
              "</tbody>\n",
              "</table>\n",
              "</dd>\n",
              "\t<dt>$last.lines</dt>\n",
              "\t\t<dd>'Log-likelihood = -44.5791\\nNo. of observations = 48\\nAIC value = 111.1582\\n\\n'</dd>\n",
              "</dl>\n"
            ],
            "text/markdown": "$first.line\n:   '\\nPoisson regression predicting n_peri with offset = log(N) \\n'\n$table\n:   \nA matrix: 15 × 4 of type chr\n\n| <!--/--> | crude IDR(95%CI) | adj. IDR(95%CI) | P(Wald's test) | P(LR-test) |\n|---|---|---|---|---|\n| status: ref.=unvaccinated | <!----> | <!----> | <!----> | &lt; 0.001 |\n|    infected | 5.26 (1.26,21.91)  | 4.06 (0.97,17.04)  | 0.056   | <!----> |\n|    PZ | 2.81 (1.55,5.11)   | 2.85 (1.52,5.32)   | 0.001   | <!----> |\n|    PZ-PZ | 5.74 (3.49,9.46)   | 5.35 (3.13,9.15)   | &lt; 0.001 | <!----> |\n|    PZ-PZ-PZ | 2.1 (0.5,8.77)     | 1.77 (0.42,7.55)   | 0.438   | <!----> |\n|    SP | 0.51 (0.07,3.72)   | 0.38 (0.05,2.82)   | 0.345   | <!----> |\n|    SP-SP | 0.42 (0.06,3.08)   | 0.32 (0.04,2.33)   | 0.259   | <!----> |\n|    SP-SP-PZ | 0.94 (0.13,6.86)   | 0.73 (0.1,5.42)    | 0.76    | <!----> |\n| <!----> | <!----> | <!----> | <!----> | <!----> |\n| sex: Male vs Female | 4.95 (2.79,8.78)   | 5.05 (2.84,8.96)   | &lt; 0.001 | &lt; 0.001 |\n| <!----> | <!----> | <!----> | <!----> | <!----> |\n| age: ref.=18-40 | <!----> | <!----> | <!----> | &lt; 0.001 |\n|    12-17 | 2.3 (1.47,3.61)    | 1.21 (0.73,2.03)   | 0.463   | <!----> |\n|    5-11 | 0.15 (0.05,0.42)   | 0.1 (0.03,0.28)    | &lt; 0.001 | <!----> |\n| <!----> | <!----> | <!----> | <!----> | <!----> |\n\n\n$last.lines\n:   'Log-likelihood = -44.5791\\nNo. of observations = 48\\nAIC value = 111.1582\\n\\n'\n\n\n",
            "text/latex": "\\begin{description}\n\\item[\\$first.line] '\\textbackslash{}nPoisson regression predicting n\\_peri with offset = log(N) \\textbackslash{}n'\n\\item[\\$table] A matrix: 15 × 4 of type chr\n\\begin{tabular}{r|llll}\n  & crude IDR(95\\%CI) & adj. IDR(95\\%CI) & P(Wald's test) & P(LR-test)\\\\\n\\hline\n\tstatus: ref.=unvaccinated &                    &                    &         & < 0.001\\\\\n\t   infected & 5.26 (1.26,21.91)  & 4.06 (0.97,17.04)  & 0.056   &        \\\\\n\t   PZ & 2.81 (1.55,5.11)   & 2.85 (1.52,5.32)   & 0.001   &        \\\\\n\t   PZ-PZ & 5.74 (3.49,9.46)   & 5.35 (3.13,9.15)   & < 0.001 &        \\\\\n\t   PZ-PZ-PZ & 2.1 (0.5,8.77)     & 1.77 (0.42,7.55)   & 0.438   &        \\\\\n\t   SP & 0.51 (0.07,3.72)   & 0.38 (0.05,2.82)   & 0.345   &        \\\\\n\t   SP-SP & 0.42 (0.06,3.08)   & 0.32 (0.04,2.33)   & 0.259   &        \\\\\n\t   SP-SP-PZ & 0.94 (0.13,6.86)   & 0.73 (0.1,5.42)    & 0.76    &        \\\\\n\t &                    &                    &         &        \\\\\n\tsex: Male vs Female & 4.95 (2.79,8.78)   & 5.05 (2.84,8.96)   & < 0.001 & < 0.001\\\\\n\t &                    &                    &         &        \\\\\n\tage: ref.=18-40 &                    &                    &         & < 0.001\\\\\n\t   12-17 & 2.3 (1.47,3.61)    & 1.21 (0.73,2.03)   & 0.463   &        \\\\\n\t   5-11 & 0.15 (0.05,0.42)   & 0.1 (0.03,0.28)    & < 0.001 &        \\\\\n\t &                    &                    &         &        \\\\\n\\end{tabular}\n\n\\item[\\$last.lines] 'Log-likelihood = -44.5791\\textbackslash{}nNo. of observations = 48\\textbackslash{}nAIC value = 111.1582\\textbackslash{}n\\textbackslash{}n'\n\\end{description}\n",
            "text/plain": [
              "\n",
              "Poisson regression predicting n_peri with offset = log(N) \n",
              " \n",
              "                          crude IDR(95%CI)   adj. IDR(95%CI)    P(Wald's test)\n",
              "status: ref.=unvaccinated                                                     \n",
              "   infected               5.26 (1.26,21.91)  4.06 (0.97,17.04)  0.056         \n",
              "   PZ                     2.81 (1.55,5.11)   2.85 (1.52,5.32)   0.001         \n",
              "   PZ-PZ                  5.74 (3.49,9.46)   5.35 (3.13,9.15)   < 0.001       \n",
              "   PZ-PZ-PZ               2.1 (0.5,8.77)     1.77 (0.42,7.55)   0.438         \n",
              "   SP                     0.51 (0.07,3.72)   0.38 (0.05,2.82)   0.345         \n",
              "   SP-SP                  0.42 (0.06,3.08)   0.32 (0.04,2.33)   0.259         \n",
              "   SP-SP-PZ               0.94 (0.13,6.86)   0.73 (0.1,5.42)    0.76          \n",
              "                                                                              \n",
              "sex: Male vs Female       4.95 (2.79,8.78)   5.05 (2.84,8.96)   < 0.001       \n",
              "                                                                              \n",
              "age: ref.=18-40                                                               \n",
              "   12-17                  2.3 (1.47,3.61)    1.21 (0.73,2.03)   0.463         \n",
              "   5-11                   0.15 (0.05,0.42)   0.1 (0.03,0.28)    < 0.001       \n",
              "                                                                              \n",
              "                          P(LR-test)\n",
              "status: ref.=unvaccinated < 0.001   \n",
              "   infected                         \n",
              "   PZ                               \n",
              "   PZ-PZ                            \n",
              "   PZ-PZ-PZ                         \n",
              "   SP                               \n",
              "   SP-SP                            \n",
              "   SP-SP-PZ                         \n",
              "                                    \n",
              "sex: Male vs Female       < 0.001   \n",
              "                                    \n",
              "age: ref.=18-40           < 0.001   \n",
              "   12-17                            \n",
              "   5-11                             \n",
              "                                    \n",
              "Log-likelihood = -44.5791\n",
              "No. of observations = 48\n",
              "AIC value = 111.1582\n"
            ]
          },
          "metadata": {}
        }
      ]
    },
    {
      "cell_type": "code",
      "source": [
        "dispersiontest(model_peri)"
      ],
      "metadata": {
        "colab": {
          "base_uri": "https://localhost:8080/",
          "height": 173
        },
        "id": "E2R_r58-kvb0",
        "outputId": "950900e8-e0e7-42bf-ce1e-9c115e1b6b47"
      },
      "execution_count": null,
      "outputs": [
        {
          "output_type": "display_data",
          "data": {
            "text/plain": [
              "\n",
              "\tOverdispersion test\n",
              "\n",
              "data:  model_peri\n",
              "z = 0.87113, p-value = 0.1918\n",
              "alternative hypothesis: true dispersion is greater than 1\n",
              "sample estimates:\n",
              "dispersion \n",
              "  1.164045 \n"
            ]
          },
          "metadata": {}
        }
      ]
    },
    {
      "cell_type": "code",
      "source": [
        "df<-cdat\n",
        "df$predicted <- predict(model_peri, type=\"response\")\n",
        "\n",
        "# Calculate Pearson residuals\n",
        "df$residuals <- residuals(model_peri, type=\"pearson\")\n",
        "\n",
        "# Create residuals vs fitted values plot\n",
        "ggplot(df, aes(x = predicted, y = residuals)) +\n",
        "  geom_hline(yintercept = 0, color = \"red\") +\n",
        "  geom_point() +\n",
        "  theme_minimal() +\n",
        "  labs(x = \"Fitted values\",\n",
        "       y = \"Pearson residuals\",\n",
        "       title = \"Residuals vs Fitted values\")"
      ],
      "metadata": {
        "colab": {
          "base_uri": "https://localhost:8080/",
          "height": 437
        },
        "id": "EyQ-Vppnk2X7",
        "outputId": "bf77682b-87fb-4fa6-baf2-f07adf3c6f63"
      },
      "execution_count": null,
      "outputs": [
        {
          "output_type": "display_data",
          "data": {
            "text/plain": [
              "plot without title"
            ],
            "image/png": "[encoded data removed]"
          },
          "metadata": {
            "image/png": {
              "width": 420,
              "height": 420
            }
          }
        }
      ]
    },
    {
      "cell_type": "code",
      "source": [
        "t_peri<-idr.display(model_peri)"
      ],
      "metadata": {
        "colab": {
          "base_uri": "https://localhost:8080/"
        },
        "id": "WJyLx2reYCox",
        "outputId": "c5c45125-39ca-49b6-91bd-6de745d5d20d"
      },
      "execution_count": null,
      "outputs": [
        {
          "output_type": "stream",
          "name": "stdout",
          "text": [
            "\n"
          ]
        }
      ]
    },
    {
      "cell_type": "code",
      "source": [
        "write.csv(t_peri,\"t_peri.csv\")"
      ],
      "metadata": {
        "id": "Jt3xEUpiYF3y"
      },
      "execution_count": null,
      "outputs": []
    }
  ],
  "metadata": {
    "accelerator": "GPU",
    "colab": {
      "provenance": []
    },
    "kernelspec": {
      "display_name": "R",
      "name": "ir"
    },
    "gpuClass": "standard"
  },
  "nbformat": 4,
  "nbformat_minor": 0
}